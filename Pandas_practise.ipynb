{
  "cells":[
    {
      "cell_type":"code",
      "source":[
        "import numpy as np\n",
        "import pandas as pd"
      ],
      "attachments":{
        
      },
      "execution_count":121,
      "outputs":[
        
      ],
      "metadata":{
        
      }
    },
    {
      "cell_type":"code",
      "source":[
        "labels = ['a','b','c']\n",
        "my_data = [10,20,30]\n",
        "d = {'a':10,'b':20,'c':30}\n",
        "\n",
        "# Creating a Series\n",
        "series = pd.Series(data = my_data)\n",
        "print(series)"
      ],
      "attachments":{
        
      },
      "execution_count":122,
      "outputs":[
        {
          "name":"stdout",
          "text":[
            "0    10\n",
            "1    20\n",
            "2    30\n",
            "dtype: int64\n"
          ],
          "output_type":"stream"
        }
      ],
      "metadata":{
        
      }
    },
    {
      "cell_type":"markdown",
      "source":[
        "### Series"
      ],
      "attachments":{
        
      },
      "metadata":{
        
      }
    },
    {
      "cell_type":"code",
      "source":[
        "# series = pd.Series(my_data,labels) does the same job\n",
        "series = pd.Series(data = my_data,index=labels)\n",
        "print(series)"
      ],
      "attachments":{
        
      },
      "execution_count":123,
      "outputs":[
        {
          "name":"stdout",
          "text":[
            "a    10\n",
            "b    20\n",
            "c    30\n",
            "dtype: int64\n"
          ],
          "output_type":"stream"
        }
      ],
      "metadata":{
        
      }
    },
    {
      "cell_type":"code",
      "source":[
        "# Grabing data from series \n",
        "print(f\"value at key a : {series['a']}\")"
      ],
      "attachments":{
        
      },
      "execution_count":124,
      "outputs":[
        {
          "name":"stdout",
          "text":[
            "value at key a : 10\n"
          ],
          "output_type":"stream"
        }
      ],
      "metadata":{
        
      }
    },
    {
      "cell_type":"code",
      "source":[
        "# np.random.randn(5,4) will create 5 rows 4 columns and fill all cells with random value between 0 and 1\n",
        "matrix = np.random.randn(5,4)\n",
        "row_levels = ['A','B','C','D','E']\n",
        "col_levels = ['W','X','Y','Z']\n",
        "\n",
        "dframe  = pd.DataFrame(matrix,row_levels,col_levels)\n",
        "dframe"
      ],
      "attachments":{
        
      },
      "execution_count":125,
      "outputs":[
        {
          "data":{
            "text\/html":[
              "<div>\n",
              "<style scoped>\n",
              "    .dataframe tbody tr th:only-of-type {\n",
              "        vertical-align: middle;\n",
              "    }\n",
              "\n",
              "    .dataframe tbody tr th {\n",
              "        vertical-align: top;\n",
              "    }\n",
              "\n",
              "    .dataframe thead th {\n",
              "        text-align: right;\n",
              "    }\n",
              "<\/style>\n",
              "<table border=\"1\" class=\"dataframe\">\n",
              "  <thead>\n",
              "    <tr style=\"text-align: right;\">\n",
              "      <th><\/th>\n",
              "      <th>W<\/th>\n",
              "      <th>X<\/th>\n",
              "      <th>Y<\/th>\n",
              "      <th>Z<\/th>\n",
              "    <\/tr>\n",
              "  <\/thead>\n",
              "  <tbody>\n",
              "    <tr>\n",
              "      <th>A<\/th>\n",
              "      <td>-1.397248<\/td>\n",
              "      <td>-1.234897<\/td>\n",
              "      <td>-0.526860<\/td>\n",
              "      <td>0.341264<\/td>\n",
              "    <\/tr>\n",
              "    <tr>\n",
              "      <th>B<\/th>\n",
              "      <td>0.637557<\/td>\n",
              "      <td>1.782228<\/td>\n",
              "      <td>-0.408441<\/td>\n",
              "      <td>-0.520202<\/td>\n",
              "    <\/tr>\n",
              "    <tr>\n",
              "      <th>C<\/th>\n",
              "      <td>-2.868448<\/td>\n",
              "      <td>-2.038897<\/td>\n",
              "      <td>-0.834867<\/td>\n",
              "      <td>-1.776518<\/td>\n",
              "    <\/tr>\n",
              "    <tr>\n",
              "      <th>D<\/th>\n",
              "      <td>0.966324<\/td>\n",
              "      <td>0.248652<\/td>\n",
              "      <td>-2.002598<\/td>\n",
              "      <td>1.550939<\/td>\n",
              "    <\/tr>\n",
              "    <tr>\n",
              "      <th>E<\/th>\n",
              "      <td>0.116910<\/td>\n",
              "      <td>-0.733885<\/td>\n",
              "      <td>-0.253018<\/td>\n",
              "      <td>-0.310702<\/td>\n",
              "    <\/tr>\n",
              "  <\/tbody>\n",
              "<\/table>\n",
              "<\/div>"
            ]
          },
          "metadata":{
            
          },
          "output_type":"display_data"
        }
      ],
      "metadata":{
        
      }
    },
    {
      "cell_type":"markdown",
      "source":[
        "### Accessing Values"
      ],
      "attachments":{
        
      },
      "metadata":{
        
      }
    },
    {
      "cell_type":"code",
      "source":[
        "# every column is Panda Series \n",
        "# every row is  also Panda Series \n",
        "print(type (dframe['W']))"
      ],
      "attachments":{
        
      },
      "execution_count":126,
      "outputs":[
        {
          "name":"stdout",
          "text":[
            "<class 'pandas.core.series.Series'>\n"
          ],
          "output_type":"stream"
        }
      ],
      "metadata":{
        
      }
    },
    {
      "cell_type":"code",
      "source":[
        "# Accessing Value of Dataframe \n",
        "print(dframe['W'])\n",
        "print(dframe['W']['A'])"
      ],
      "attachments":{
        
      },
      "execution_count":127,
      "outputs":[
        {
          "name":"stdout",
          "text":[
            "A   -1.397248\n",
            "B    0.637557\n",
            "C   -2.868448\n",
            "D    0.966324\n",
            "E    0.116910\n",
            "Name: W, dtype: float64\n",
            "-1.3972483662568198\n"
          ],
          "output_type":"stream"
        }
      ],
      "metadata":{
        
      }
    },
    {
      "cell_type":"code",
      "source":[
        "# Accessing Multiple columns\n",
        "dframe[['W','Z']]"
      ],
      "attachments":{
        
      },
      "execution_count":128,
      "outputs":[
        {
          "data":{
            "text\/html":[
              "<div>\n",
              "<style scoped>\n",
              "    .dataframe tbody tr th:only-of-type {\n",
              "        vertical-align: middle;\n",
              "    }\n",
              "\n",
              "    .dataframe tbody tr th {\n",
              "        vertical-align: top;\n",
              "    }\n",
              "\n",
              "    .dataframe thead th {\n",
              "        text-align: right;\n",
              "    }\n",
              "<\/style>\n",
              "<table border=\"1\" class=\"dataframe\">\n",
              "  <thead>\n",
              "    <tr style=\"text-align: right;\">\n",
              "      <th><\/th>\n",
              "      <th>W<\/th>\n",
              "      <th>Z<\/th>\n",
              "    <\/tr>\n",
              "  <\/thead>\n",
              "  <tbody>\n",
              "    <tr>\n",
              "      <th>A<\/th>\n",
              "      <td>-1.397248<\/td>\n",
              "      <td>0.341264<\/td>\n",
              "    <\/tr>\n",
              "    <tr>\n",
              "      <th>B<\/th>\n",
              "      <td>0.637557<\/td>\n",
              "      <td>-0.520202<\/td>\n",
              "    <\/tr>\n",
              "    <tr>\n",
              "      <th>C<\/th>\n",
              "      <td>-2.868448<\/td>\n",
              "      <td>-1.776518<\/td>\n",
              "    <\/tr>\n",
              "    <tr>\n",
              "      <th>D<\/th>\n",
              "      <td>0.966324<\/td>\n",
              "      <td>1.550939<\/td>\n",
              "    <\/tr>\n",
              "    <tr>\n",
              "      <th>E<\/th>\n",
              "      <td>0.116910<\/td>\n",
              "      <td>-0.310702<\/td>\n",
              "    <\/tr>\n",
              "  <\/tbody>\n",
              "<\/table>\n",
              "<\/div>"
            ]
          },
          "metadata":{
            
          },
          "output_type":"display_data"
        }
      ],
      "metadata":{
        
      }
    },
    {
      "cell_type":"code",
      "source":[
        "# Accessing row By Key\n",
        "dframe.loc['A']"
      ],
      "attachments":{
        
      },
      "execution_count":129,
      "outputs":[
        {
          "data":{
            "text\/plain":[
              "W   -1.397248\n",
              "X   -1.234897\n",
              "Y   -0.526860\n",
              "Z    0.341264\n",
              "Name: A, dtype: float64"
            ]
          },
          "metadata":{
            
          },
          "output_type":"display_data"
        }
      ],
      "metadata":{
        
      }
    },
    {
      "cell_type":"code",
      "source":[
        "# Accessing row by index \n",
        "dframe.iloc[0]"
      ],
      "attachments":{
        
      },
      "execution_count":130,
      "outputs":[
        {
          "data":{
            "text\/plain":[
              "W   -1.397248\n",
              "X   -1.234897\n",
              "Y   -0.526860\n",
              "Z    0.341264\n",
              "Name: A, dtype: float64"
            ]
          },
          "metadata":{
            
          },
          "output_type":"display_data"
        }
      ],
      "metadata":{
        
      }
    },
    {
      "cell_type":"code",
      "source":[
        "# Accessing certaing cell value\n",
        "# dframe.loc[row,column]\n",
        "\n",
        "print(dframe.loc['A','W'])\n",
        "print(dframe.iloc[0][0])"
      ],
      "attachments":{
        
      },
      "execution_count":131,
      "outputs":[
        {
          "name":"stdout",
          "text":[
            "-1.3972483662568198\n",
            "-1.3972483662568198\n"
          ],
          "output_type":"stream"
        }
      ],
      "metadata":{
        
      }
    },
    {
      "cell_type":"markdown",
      "source":[
        "### Creating New Column"
      ],
      "attachments":{
        
      },
      "metadata":{
        
      }
    },
    {
      "cell_type":"code",
      "source":[
        "# dframe['new'] = [1,2,3,4,5]\n",
        "dframe['X+Y'] = dframe['X'] + dframe['Y']\n",
        "dframe"
      ],
      "attachments":{
        
      },
      "execution_count":132,
      "outputs":[
        {
          "data":{
            "text\/html":[
              "<div>\n",
              "<style scoped>\n",
              "    .dataframe tbody tr th:only-of-type {\n",
              "        vertical-align: middle;\n",
              "    }\n",
              "\n",
              "    .dataframe tbody tr th {\n",
              "        vertical-align: top;\n",
              "    }\n",
              "\n",
              "    .dataframe thead th {\n",
              "        text-align: right;\n",
              "    }\n",
              "<\/style>\n",
              "<table border=\"1\" class=\"dataframe\">\n",
              "  <thead>\n",
              "    <tr style=\"text-align: right;\">\n",
              "      <th><\/th>\n",
              "      <th>W<\/th>\n",
              "      <th>X<\/th>\n",
              "      <th>Y<\/th>\n",
              "      <th>Z<\/th>\n",
              "      <th>X+Y<\/th>\n",
              "    <\/tr>\n",
              "  <\/thead>\n",
              "  <tbody>\n",
              "    <tr>\n",
              "      <th>A<\/th>\n",
              "      <td>-1.397248<\/td>\n",
              "      <td>-1.234897<\/td>\n",
              "      <td>-0.526860<\/td>\n",
              "      <td>0.341264<\/td>\n",
              "      <td>-1.761758<\/td>\n",
              "    <\/tr>\n",
              "    <tr>\n",
              "      <th>B<\/th>\n",
              "      <td>0.637557<\/td>\n",
              "      <td>1.782228<\/td>\n",
              "      <td>-0.408441<\/td>\n",
              "      <td>-0.520202<\/td>\n",
              "      <td>1.373787<\/td>\n",
              "    <\/tr>\n",
              "    <tr>\n",
              "      <th>C<\/th>\n",
              "      <td>-2.868448<\/td>\n",
              "      <td>-2.038897<\/td>\n",
              "      <td>-0.834867<\/td>\n",
              "      <td>-1.776518<\/td>\n",
              "      <td>-2.873764<\/td>\n",
              "    <\/tr>\n",
              "    <tr>\n",
              "      <th>D<\/th>\n",
              "      <td>0.966324<\/td>\n",
              "      <td>0.248652<\/td>\n",
              "      <td>-2.002598<\/td>\n",
              "      <td>1.550939<\/td>\n",
              "      <td>-1.753946<\/td>\n",
              "    <\/tr>\n",
              "    <tr>\n",
              "      <th>E<\/th>\n",
              "      <td>0.116910<\/td>\n",
              "      <td>-0.733885<\/td>\n",
              "      <td>-0.253018<\/td>\n",
              "      <td>-0.310702<\/td>\n",
              "      <td>-0.986903<\/td>\n",
              "    <\/tr>\n",
              "  <\/tbody>\n",
              "<\/table>\n",
              "<\/div>"
            ]
          },
          "metadata":{
            
          },
          "output_type":"display_data"
        }
      ],
      "metadata":{
        
      }
    },
    {
      "cell_type":"markdown",
      "source":[
        "### Droping Column"
      ],
      "attachments":{
        
      },
      "metadata":{
        
      }
    },
    {
      "cell_type":"code",
      "source":[
        "# dframe.drop('X+Y',axis=1,inplace=True) will permenantly remove column otherwise not\n",
        "dframe.drop('X+Y',axis=1)"
      ],
      "attachments":{
        
      },
      "execution_count":133,
      "outputs":[
        {
          "data":{
            "text\/html":[
              "<div>\n",
              "<style scoped>\n",
              "    .dataframe tbody tr th:only-of-type {\n",
              "        vertical-align: middle;\n",
              "    }\n",
              "\n",
              "    .dataframe tbody tr th {\n",
              "        vertical-align: top;\n",
              "    }\n",
              "\n",
              "    .dataframe thead th {\n",
              "        text-align: right;\n",
              "    }\n",
              "<\/style>\n",
              "<table border=\"1\" class=\"dataframe\">\n",
              "  <thead>\n",
              "    <tr style=\"text-align: right;\">\n",
              "      <th><\/th>\n",
              "      <th>W<\/th>\n",
              "      <th>X<\/th>\n",
              "      <th>Y<\/th>\n",
              "      <th>Z<\/th>\n",
              "    <\/tr>\n",
              "  <\/thead>\n",
              "  <tbody>\n",
              "    <tr>\n",
              "      <th>A<\/th>\n",
              "      <td>-1.397248<\/td>\n",
              "      <td>-1.234897<\/td>\n",
              "      <td>-0.526860<\/td>\n",
              "      <td>0.341264<\/td>\n",
              "    <\/tr>\n",
              "    <tr>\n",
              "      <th>B<\/th>\n",
              "      <td>0.637557<\/td>\n",
              "      <td>1.782228<\/td>\n",
              "      <td>-0.408441<\/td>\n",
              "      <td>-0.520202<\/td>\n",
              "    <\/tr>\n",
              "    <tr>\n",
              "      <th>C<\/th>\n",
              "      <td>-2.868448<\/td>\n",
              "      <td>-2.038897<\/td>\n",
              "      <td>-0.834867<\/td>\n",
              "      <td>-1.776518<\/td>\n",
              "    <\/tr>\n",
              "    <tr>\n",
              "      <th>D<\/th>\n",
              "      <td>0.966324<\/td>\n",
              "      <td>0.248652<\/td>\n",
              "      <td>-2.002598<\/td>\n",
              "      <td>1.550939<\/td>\n",
              "    <\/tr>\n",
              "    <tr>\n",
              "      <th>E<\/th>\n",
              "      <td>0.116910<\/td>\n",
              "      <td>-0.733885<\/td>\n",
              "      <td>-0.253018<\/td>\n",
              "      <td>-0.310702<\/td>\n",
              "    <\/tr>\n",
              "  <\/tbody>\n",
              "<\/table>\n",
              "<\/div>"
            ]
          },
          "metadata":{
            
          },
          "output_type":"display_data"
        }
      ],
      "metadata":{
        
      }
    },
    {
      "cell_type":"markdown",
      "source":[
        "### Conditional Ouput"
      ],
      "attachments":{
        
      },
      "metadata":{
        
      }
    },
    {
      "cell_type":"code",
      "source":[
        "dframe[dframe['W']> 0]"
      ],
      "attachments":{
        
      },
      "execution_count":134,
      "outputs":[
        {
          "data":{
            "text\/html":[
              "<div>\n",
              "<style scoped>\n",
              "    .dataframe tbody tr th:only-of-type {\n",
              "        vertical-align: middle;\n",
              "    }\n",
              "\n",
              "    .dataframe tbody tr th {\n",
              "        vertical-align: top;\n",
              "    }\n",
              "\n",
              "    .dataframe thead th {\n",
              "        text-align: right;\n",
              "    }\n",
              "<\/style>\n",
              "<table border=\"1\" class=\"dataframe\">\n",
              "  <thead>\n",
              "    <tr style=\"text-align: right;\">\n",
              "      <th><\/th>\n",
              "      <th>W<\/th>\n",
              "      <th>X<\/th>\n",
              "      <th>Y<\/th>\n",
              "      <th>Z<\/th>\n",
              "      <th>X+Y<\/th>\n",
              "    <\/tr>\n",
              "  <\/thead>\n",
              "  <tbody>\n",
              "    <tr>\n",
              "      <th>B<\/th>\n",
              "      <td>0.637557<\/td>\n",
              "      <td>1.782228<\/td>\n",
              "      <td>-0.408441<\/td>\n",
              "      <td>-0.520202<\/td>\n",
              "      <td>1.373787<\/td>\n",
              "    <\/tr>\n",
              "    <tr>\n",
              "      <th>D<\/th>\n",
              "      <td>0.966324<\/td>\n",
              "      <td>0.248652<\/td>\n",
              "      <td>-2.002598<\/td>\n",
              "      <td>1.550939<\/td>\n",
              "      <td>-1.753946<\/td>\n",
              "    <\/tr>\n",
              "    <tr>\n",
              "      <th>E<\/th>\n",
              "      <td>0.116910<\/td>\n",
              "      <td>-0.733885<\/td>\n",
              "      <td>-0.253018<\/td>\n",
              "      <td>-0.310702<\/td>\n",
              "      <td>-0.986903<\/td>\n",
              "    <\/tr>\n",
              "  <\/tbody>\n",
              "<\/table>\n",
              "<\/div>"
            ]
          },
          "metadata":{
            
          },
          "output_type":"display_data"
        }
      ],
      "metadata":{
        
      }
    },
    {
      "cell_type":"code",
      "source":[
        "# dframe[(condition) & (condition)]\n",
        "# dframe[(condition) | (condition)]\n",
        "dframe[(dframe['W']>0) & (dframe['Y']>0)]"
      ],
      "attachments":{
        
      },
      "execution_count":135,
      "outputs":[
        {
          "data":{
            "text\/html":[
              "<div>\n",
              "<style scoped>\n",
              "    .dataframe tbody tr th:only-of-type {\n",
              "        vertical-align: middle;\n",
              "    }\n",
              "\n",
              "    .dataframe tbody tr th {\n",
              "        vertical-align: top;\n",
              "    }\n",
              "\n",
              "    .dataframe thead th {\n",
              "        text-align: right;\n",
              "    }\n",
              "<\/style>\n",
              "<table border=\"1\" class=\"dataframe\">\n",
              "  <thead>\n",
              "    <tr style=\"text-align: right;\">\n",
              "      <th><\/th>\n",
              "      <th>W<\/th>\n",
              "      <th>X<\/th>\n",
              "      <th>Y<\/th>\n",
              "      <th>Z<\/th>\n",
              "      <th>X+Y<\/th>\n",
              "    <\/tr>\n",
              "  <\/thead>\n",
              "  <tbody>\n",
              "  <\/tbody>\n",
              "<\/table>\n",
              "<\/div>"
            ]
          },
          "metadata":{
            
          },
          "output_type":"display_data"
        }
      ],
      "metadata":{
        
      }
    },
    {
      "cell_type":"markdown",
      "source":[
        "### Group By"
      ],
      "attachments":{
        
      },
      "metadata":{
        
      }
    },
    {
      "cell_type":"code",
      "source":[
        "new_data = [200,300000,200,350000,400,5000000,400,5500000,600,70000000,600,75000000]\n",
        "new_row_levels = ['Google','Google','Facebook','Facebook','Amazon','Amazon']\n",
        "new_col_levels = ['Employee','Salary']\n",
        "\n",
        "new_frame = pd.DataFrame(np.array(new_data).reshape(6,2),new_row_levels,new_col_levels)\n",
        "new_frame"
      ],
      "attachments":{
        
      },
      "execution_count":136,
      "outputs":[
        {
          "data":{
            "text\/html":[
              "<div>\n",
              "<style scoped>\n",
              "    .dataframe tbody tr th:only-of-type {\n",
              "        vertical-align: middle;\n",
              "    }\n",
              "\n",
              "    .dataframe tbody tr th {\n",
              "        vertical-align: top;\n",
              "    }\n",
              "\n",
              "    .dataframe thead th {\n",
              "        text-align: right;\n",
              "    }\n",
              "<\/style>\n",
              "<table border=\"1\" class=\"dataframe\">\n",
              "  <thead>\n",
              "    <tr style=\"text-align: right;\">\n",
              "      <th><\/th>\n",
              "      <th>Employee<\/th>\n",
              "      <th>Salary<\/th>\n",
              "    <\/tr>\n",
              "  <\/thead>\n",
              "  <tbody>\n",
              "    <tr>\n",
              "      <th>Google<\/th>\n",
              "      <td>200<\/td>\n",
              "      <td>300000<\/td>\n",
              "    <\/tr>\n",
              "    <tr>\n",
              "      <th>Google<\/th>\n",
              "      <td>200<\/td>\n",
              "      <td>350000<\/td>\n",
              "    <\/tr>\n",
              "    <tr>\n",
              "      <th>Facebook<\/th>\n",
              "      <td>400<\/td>\n",
              "      <td>5000000<\/td>\n",
              "    <\/tr>\n",
              "    <tr>\n",
              "      <th>Facebook<\/th>\n",
              "      <td>400<\/td>\n",
              "      <td>5500000<\/td>\n",
              "    <\/tr>\n",
              "    <tr>\n",
              "      <th>Amazon<\/th>\n",
              "      <td>600<\/td>\n",
              "      <td>70000000<\/td>\n",
              "    <\/tr>\n",
              "    <tr>\n",
              "      <th>Amazon<\/th>\n",
              "      <td>600<\/td>\n",
              "      <td>75000000<\/td>\n",
              "    <\/tr>\n",
              "  <\/tbody>\n",
              "<\/table>\n",
              "<\/div>"
            ]
          },
          "metadata":{
            
          },
          "output_type":"display_data"
        }
      ],
      "metadata":{
        
      }
    },
    {
      "cell_type":"code",
      "source":[
        "new_frame['Salary'].sum()"
      ],
      "attachments":{
        
      },
      "execution_count":137,
      "outputs":[
        {
          "data":{
            "text\/plain":[
              "156150000"
            ]
          },
          "metadata":{
            
          },
          "output_type":"display_data"
        }
      ],
      "metadata":{
        
      }
    },
    {
      "cell_type":"code",
      "source":[
        "new_frame['Salary'].mean()"
      ],
      "attachments":{
        
      },
      "execution_count":138,
      "outputs":[
        {
          "data":{
            "text\/plain":[
              "26025000.0"
            ]
          },
          "metadata":{
            
          },
          "output_type":"display_data"
        }
      ],
      "metadata":{
        
      }
    },
    {
      "cell_type":"code",
      "source":[
        "print(new_frame.loc['Google']['Salary'].sum())\n",
        "print(new_frame.loc['Google']['Employee'].sum())"
      ],
      "attachments":{
        
      },
      "execution_count":139,
      "outputs":[
        {
          "name":"stdout",
          "text":[
            "650000\n",
            "400\n"
          ],
          "output_type":"stream"
        }
      ],
      "metadata":{
        
      }
    },
    {
      "cell_type":"code",
      "source":[
        "# return which value how many times\n",
        "new_frame['Employee'].value_counts()"
      ],
      "attachments":{
        
      },
      "execution_count":140,
      "outputs":[
        {
          "data":{
            "text\/plain":[
              "200    2\n",
              "600    2\n",
              "400    2\n",
              "Name: Employee, dtype: int64"
            ]
          },
          "metadata":{
            
          },
          "output_type":"display_data"
        }
      ],
      "metadata":{
        
      }
    },
    {
      "cell_type":"code",
      "source":[
        "# returns unique items of the column\n",
        "new_frame['Employee'].unique()"
      ],
      "attachments":{
        
      },
      "execution_count":141,
      "outputs":[
        {
          "data":{
            "text\/plain":[
              "array([200, 400, 600])"
            ]
          },
          "metadata":{
            
          },
          "output_type":"display_data"
        }
      ],
      "metadata":{
        
      }
    },
    {
      "cell_type":"markdown",
      "source":[
        "### Applying Custom function to column of Panda Dataframe"
      ],
      "attachments":{
        
      },
      "metadata":{
        
      }
    },
    {
      "cell_type":"code",
      "source":[
        "new_frame"
      ],
      "attachments":{
        
      },
      "execution_count":142,
      "outputs":[
        {
          "data":{
            "text\/html":[
              "<div>\n",
              "<style scoped>\n",
              "    .dataframe tbody tr th:only-of-type {\n",
              "        vertical-align: middle;\n",
              "    }\n",
              "\n",
              "    .dataframe tbody tr th {\n",
              "        vertical-align: top;\n",
              "    }\n",
              "\n",
              "    .dataframe thead th {\n",
              "        text-align: right;\n",
              "    }\n",
              "<\/style>\n",
              "<table border=\"1\" class=\"dataframe\">\n",
              "  <thead>\n",
              "    <tr style=\"text-align: right;\">\n",
              "      <th><\/th>\n",
              "      <th>Employee<\/th>\n",
              "      <th>Salary<\/th>\n",
              "    <\/tr>\n",
              "  <\/thead>\n",
              "  <tbody>\n",
              "    <tr>\n",
              "      <th>Google<\/th>\n",
              "      <td>200<\/td>\n",
              "      <td>300000<\/td>\n",
              "    <\/tr>\n",
              "    <tr>\n",
              "      <th>Google<\/th>\n",
              "      <td>200<\/td>\n",
              "      <td>350000<\/td>\n",
              "    <\/tr>\n",
              "    <tr>\n",
              "      <th>Facebook<\/th>\n",
              "      <td>400<\/td>\n",
              "      <td>5000000<\/td>\n",
              "    <\/tr>\n",
              "    <tr>\n",
              "      <th>Facebook<\/th>\n",
              "      <td>400<\/td>\n",
              "      <td>5500000<\/td>\n",
              "    <\/tr>\n",
              "    <tr>\n",
              "      <th>Amazon<\/th>\n",
              "      <td>600<\/td>\n",
              "      <td>70000000<\/td>\n",
              "    <\/tr>\n",
              "    <tr>\n",
              "      <th>Amazon<\/th>\n",
              "      <td>600<\/td>\n",
              "      <td>75000000<\/td>\n",
              "    <\/tr>\n",
              "  <\/tbody>\n",
              "<\/table>\n",
              "<\/div>"
            ]
          },
          "metadata":{
            
          },
          "output_type":"display_data"
        }
      ],
      "metadata":{
        
      }
    },
    {
      "cell_type":"code",
      "source":[
        "def two_times(x):\n",
        "    return x**2\n",
        "\n",
        "new_frame['Employee'].apply(two_times)"
      ],
      "attachments":{
        
      },
      "execution_count":143,
      "outputs":[
        {
          "data":{
            "text\/plain":[
              "Google       40000\n",
              "Google       40000\n",
              "Facebook    160000\n",
              "Facebook    160000\n",
              "Amazon      360000\n",
              "Amazon      360000\n",
              "Name: Employee, dtype: int64"
            ]
          },
          "metadata":{
            
          },
          "output_type":"display_data"
        }
      ],
      "metadata":{
        
      }
    },
    {
      "cell_type":"markdown",
      "source":[
        "### Sorting By A specific Column"
      ],
      "attachments":{
        
      },
      "metadata":{
        
      }
    },
    {
      "cell_type":"code",
      "source":[
        "new_frame.sort_values(by='Employee')"
      ],
      "attachments":{
        
      },
      "execution_count":144,
      "outputs":[
        {
          "data":{
            "text\/html":[
              "<div>\n",
              "<style scoped>\n",
              "    .dataframe tbody tr th:only-of-type {\n",
              "        vertical-align: middle;\n",
              "    }\n",
              "\n",
              "    .dataframe tbody tr th {\n",
              "        vertical-align: top;\n",
              "    }\n",
              "\n",
              "    .dataframe thead th {\n",
              "        text-align: right;\n",
              "    }\n",
              "<\/style>\n",
              "<table border=\"1\" class=\"dataframe\">\n",
              "  <thead>\n",
              "    <tr style=\"text-align: right;\">\n",
              "      <th><\/th>\n",
              "      <th>Employee<\/th>\n",
              "      <th>Salary<\/th>\n",
              "    <\/tr>\n",
              "  <\/thead>\n",
              "  <tbody>\n",
              "    <tr>\n",
              "      <th>Google<\/th>\n",
              "      <td>200<\/td>\n",
              "      <td>300000<\/td>\n",
              "    <\/tr>\n",
              "    <tr>\n",
              "      <th>Google<\/th>\n",
              "      <td>200<\/td>\n",
              "      <td>350000<\/td>\n",
              "    <\/tr>\n",
              "    <tr>\n",
              "      <th>Facebook<\/th>\n",
              "      <td>400<\/td>\n",
              "      <td>5000000<\/td>\n",
              "    <\/tr>\n",
              "    <tr>\n",
              "      <th>Facebook<\/th>\n",
              "      <td>400<\/td>\n",
              "      <td>5500000<\/td>\n",
              "    <\/tr>\n",
              "    <tr>\n",
              "      <th>Amazon<\/th>\n",
              "      <td>600<\/td>\n",
              "      <td>70000000<\/td>\n",
              "    <\/tr>\n",
              "    <tr>\n",
              "      <th>Amazon<\/th>\n",
              "      <td>600<\/td>\n",
              "      <td>75000000<\/td>\n",
              "    <\/tr>\n",
              "  <\/tbody>\n",
              "<\/table>\n",
              "<\/div>"
            ]
          },
          "metadata":{
            
          },
          "output_type":"display_data"
        }
      ],
      "metadata":{
        
      }
    },
    {
      "cell_type":"markdown",
      "source":[
        "### Reading and Writing into files"
      ],
      "attachments":{
        
      },
      "metadata":{
        
      }
    },
    {
      "cell_type":"code",
      "source":[
        "# Reading data\n",
        "# readedDataFrame = pd.read_csv('csv_file_name.csv')\n",
        "# Writing Data \n",
        "# readedDataFrame.to_csv('file_name_where_to_white_data')"
      ],
      "attachments":{
        
      },
      "execution_count":145,
      "outputs":[
        
      ],
      "metadata":{
        
      }
    }
  ],
  "metadata":{
    
  },
  "nbformat":4,
  "nbformat_minor":0
}
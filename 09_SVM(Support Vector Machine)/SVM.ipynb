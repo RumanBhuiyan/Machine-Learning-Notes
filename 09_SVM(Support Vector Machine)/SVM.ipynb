{
  "cells":[
    {
      "cell_type":"markdown",
      "source":[
        "## Declaring Libraries"
      ],
      "metadata":{
        
      }
    },
    {
      "cell_type":"code",
      "source":[
        "\n",
        "import pandas as pd"
      ],
      "execution_count":8,
      "outputs":[
        
      ],
      "metadata":{
        
      }
    },
    {
      "cell_type":"code",
      "source":[
        "bankdata = pd.read_csv('bill_authentication.csv')\n",
        "bankdata"
      ],
      "execution_count":9,
      "outputs":[
        {
          "data":{
            "text\/html":[
              "<div>\n",
              "<style scoped>\n",
              "    .dataframe tbody tr th:only-of-type {\n",
              "        vertical-align: middle;\n",
              "    }\n",
              "\n",
              "    .dataframe tbody tr th {\n",
              "        vertical-align: top;\n",
              "    }\n",
              "\n",
              "    .dataframe thead th {\n",
              "        text-align: right;\n",
              "    }\n",
              "<\/style>\n",
              "<table border=\"1\" class=\"dataframe\">\n",
              "  <thead>\n",
              "    <tr style=\"text-align: right;\">\n",
              "      <th><\/th>\n",
              "      <th>Variance<\/th>\n",
              "      <th>Skewness<\/th>\n",
              "      <th>Curtosis<\/th>\n",
              "      <th>Entropy<\/th>\n",
              "      <th>Class<\/th>\n",
              "    <\/tr>\n",
              "  <\/thead>\n",
              "  <tbody>\n",
              "    <tr>\n",
              "      <th>0<\/th>\n",
              "      <td>3.62160<\/td>\n",
              "      <td>8.66610<\/td>\n",
              "      <td>-2.8073<\/td>\n",
              "      <td>-0.44699<\/td>\n",
              "      <td>0<\/td>\n",
              "    <\/tr>\n",
              "    <tr>\n",
              "      <th>1<\/th>\n",
              "      <td>4.54590<\/td>\n",
              "      <td>8.16740<\/td>\n",
              "      <td>-2.4586<\/td>\n",
              "      <td>-1.46210<\/td>\n",
              "      <td>0<\/td>\n",
              "    <\/tr>\n",
              "    <tr>\n",
              "      <th>2<\/th>\n",
              "      <td>3.86600<\/td>\n",
              "      <td>-2.63830<\/td>\n",
              "      <td>1.9242<\/td>\n",
              "      <td>0.10645<\/td>\n",
              "      <td>0<\/td>\n",
              "    <\/tr>\n",
              "    <tr>\n",
              "      <th>3<\/th>\n",
              "      <td>3.45660<\/td>\n",
              "      <td>9.52280<\/td>\n",
              "      <td>-4.0112<\/td>\n",
              "      <td>-3.59440<\/td>\n",
              "      <td>0<\/td>\n",
              "    <\/tr>\n",
              "    <tr>\n",
              "      <th>4<\/th>\n",
              "      <td>0.32924<\/td>\n",
              "      <td>-4.45520<\/td>\n",
              "      <td>4.5718<\/td>\n",
              "      <td>-0.98880<\/td>\n",
              "      <td>0<\/td>\n",
              "    <\/tr>\n",
              "    <tr>\n",
              "      <th>...<\/th>\n",
              "      <td>...<\/td>\n",
              "      <td>...<\/td>\n",
              "      <td>...<\/td>\n",
              "      <td>...<\/td>\n",
              "      <td>...<\/td>\n",
              "    <\/tr>\n",
              "    <tr>\n",
              "      <th>1367<\/th>\n",
              "      <td>0.40614<\/td>\n",
              "      <td>1.34920<\/td>\n",
              "      <td>-1.4501<\/td>\n",
              "      <td>-0.55949<\/td>\n",
              "      <td>1<\/td>\n",
              "    <\/tr>\n",
              "    <tr>\n",
              "      <th>1368<\/th>\n",
              "      <td>-1.38870<\/td>\n",
              "      <td>-4.87730<\/td>\n",
              "      <td>6.4774<\/td>\n",
              "      <td>0.34179<\/td>\n",
              "      <td>1<\/td>\n",
              "    <\/tr>\n",
              "    <tr>\n",
              "      <th>1369<\/th>\n",
              "      <td>-3.75030<\/td>\n",
              "      <td>-13.45860<\/td>\n",
              "      <td>17.5932<\/td>\n",
              "      <td>-2.77710<\/td>\n",
              "      <td>1<\/td>\n",
              "    <\/tr>\n",
              "    <tr>\n",
              "      <th>1370<\/th>\n",
              "      <td>-3.56370<\/td>\n",
              "      <td>-8.38270<\/td>\n",
              "      <td>12.3930<\/td>\n",
              "      <td>-1.28230<\/td>\n",
              "      <td>1<\/td>\n",
              "    <\/tr>\n",
              "    <tr>\n",
              "      <th>1371<\/th>\n",
              "      <td>-2.54190<\/td>\n",
              "      <td>-0.65804<\/td>\n",
              "      <td>2.6842<\/td>\n",
              "      <td>1.19520<\/td>\n",
              "      <td>1<\/td>\n",
              "    <\/tr>\n",
              "  <\/tbody>\n",
              "<\/table>\n",
              "<p>1372 rows × 5 columns<\/p>\n",
              "<\/div>"
            ]
          },
          "metadata":{
            
          },
          "output_type":"display_data"
        }
      ],
      "metadata":{
        
      }
    },
    {
      "cell_type":"markdown",
      "source":[
        "## Preparing Data and Processing"
      ],
      "metadata":{
        
      }
    },
    {
      "cell_type":"code",
      "source":[
        "X = bankdata.drop('Class', axis=1)\n",
        "y = bankdata['Class']\n",
        "\n",
        "from sklearn.model_selection import train_test_split\n",
        "X_train, X_test, y_train, y_test = train_test_split(X, y, test_size = 0.20)"
      ],
      "execution_count":10,
      "outputs":[
        
      ],
      "metadata":{
        
      }
    },
    {
      "cell_type":"markdown",
      "source":[
        "## Training The Algorithm"
      ],
      "metadata":{
        
      }
    },
    {
      "cell_type":"code",
      "source":[
        "from sklearn.svm import SVC\n",
        "svclassifier = SVC(kernel='linear')\n",
        "svclassifier.fit(X_train, y_train)"
      ],
      "execution_count":11,
      "outputs":[
        {
          "data":{
            "text\/plain":[
              "SVC(kernel='linear')"
            ]
          },
          "metadata":{
            
          },
          "output_type":"display_data"
        }
      ],
      "metadata":{
        
      }
    },
    {
      "cell_type":"markdown",
      "source":[
        "## Evaluating the algorithm and predicting the result"
      ],
      "metadata":{
        
      }
    },
    {
      "cell_type":"code",
      "source":[
        "y_pred = svclassifier.predict(X_test)\n",
        "\n",
        "from sklearn.metrics import classification_report, confusion_matrix\n",
        "print(confusion_matrix(y_test,y_pred))\n",
        "print(classification_report(y_test,y_pred))"
      ],
      "execution_count":12,
      "outputs":[
        {
          "name":"stdout",
          "text":[
            "[[156   3]\n",
            " [  1 115]]\n",
            "              precision    recall  f1-score   support\n",
            "\n",
            "           0       0.99      0.98      0.99       159\n",
            "           1       0.97      0.99      0.98       116\n",
            "\n",
            "    accuracy                           0.99       275\n",
            "   macro avg       0.98      0.99      0.99       275\n",
            "weighted avg       0.99      0.99      0.99       275\n",
            "\n"
          ],
          "output_type":"stream"
        }
      ],
      "metadata":{
        
      }
    },
    {
      "cell_type":"code",
      "source":[
        
      ],
      "execution_count":12,
      "outputs":[
        
      ],
      "metadata":{
        
      }
    }
  ],
  "metadata":{
    
  },
  "nbformat":4,
  "nbformat_minor":0
}
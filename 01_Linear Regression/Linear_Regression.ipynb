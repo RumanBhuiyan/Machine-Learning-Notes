{
  "cells":[
    {
      "cell_type":"markdown",
      "source":[
        "# Declaring Libraries"
      ],
      "metadata":{
        
      }
    },
    {
      "cell_type":"code",
      "source":[
        "import numpy as np \n",
        "import pandas as pd\n",
        "import matplotlib.pyplot as plt\n",
        "\n",
        "import seaborn as sns \n",
        "sns.set() # seaborn is overriding all functionalities of matplotlib"
      ],
      "execution_count":2,
      "outputs":[
        
      ],
      "metadata":{
        
      }
    },
    {
      "cell_type":"markdown",
      "source":[
        "# Load data"
      ],
      "metadata":{
        
      }
    },
    {
      "cell_type":"code",
      "source":[
        "data=pd.read_csv('linear_regression.csv')"
      ],
      "execution_count":3,
      "outputs":[
        
      ],
      "metadata":{
        
      }
    },
    {
      "cell_type":"code",
      "source":[
        "data"
      ],
      "execution_count":4,
      "outputs":[
        {
          "data":{
            "text\/html":[
              "<div>\n",
              "<style scoped>\n",
              "    .dataframe tbody tr th:only-of-type {\n",
              "        vertical-align: middle;\n",
              "    }\n",
              "\n",
              "    .dataframe tbody tr th {\n",
              "        vertical-align: top;\n",
              "    }\n",
              "\n",
              "    .dataframe thead th {\n",
              "        text-align: right;\n",
              "    }\n",
              "<\/style>\n",
              "<table border=\"1\" class=\"dataframe\">\n",
              "  <thead>\n",
              "    <tr style=\"text-align: right;\">\n",
              "      <th><\/th>\n",
              "      <th>SAT<\/th>\n",
              "      <th>GPA<\/th>\n",
              "    <\/tr>\n",
              "  <\/thead>\n",
              "  <tbody>\n",
              "    <tr>\n",
              "      <th>0<\/th>\n",
              "      <td>1714<\/td>\n",
              "      <td>2.40<\/td>\n",
              "    <\/tr>\n",
              "    <tr>\n",
              "      <th>1<\/th>\n",
              "      <td>1664<\/td>\n",
              "      <td>2.52<\/td>\n",
              "    <\/tr>\n",
              "    <tr>\n",
              "      <th>2<\/th>\n",
              "      <td>1760<\/td>\n",
              "      <td>2.54<\/td>\n",
              "    <\/tr>\n",
              "    <tr>\n",
              "      <th>3<\/th>\n",
              "      <td>1685<\/td>\n",
              "      <td>2.74<\/td>\n",
              "    <\/tr>\n",
              "    <tr>\n",
              "      <th>4<\/th>\n",
              "      <td>1693<\/td>\n",
              "      <td>2.83<\/td>\n",
              "    <\/tr>\n",
              "    <tr>\n",
              "      <th>...<\/th>\n",
              "      <td>...<\/td>\n",
              "      <td>...<\/td>\n",
              "    <\/tr>\n",
              "    <tr>\n",
              "      <th>79<\/th>\n",
              "      <td>1936<\/td>\n",
              "      <td>3.71<\/td>\n",
              "    <\/tr>\n",
              "    <tr>\n",
              "      <th>80<\/th>\n",
              "      <td>1810<\/td>\n",
              "      <td>3.71<\/td>\n",
              "    <\/tr>\n",
              "    <tr>\n",
              "      <th>81<\/th>\n",
              "      <td>1987<\/td>\n",
              "      <td>3.73<\/td>\n",
              "    <\/tr>\n",
              "    <tr>\n",
              "      <th>82<\/th>\n",
              "      <td>1962<\/td>\n",
              "      <td>3.76<\/td>\n",
              "    <\/tr>\n",
              "    <tr>\n",
              "      <th>83<\/th>\n",
              "      <td>2050<\/td>\n",
              "      <td>3.81<\/td>\n",
              "    <\/tr>\n",
              "  <\/tbody>\n",
              "<\/table>\n",
              "<p>84 rows × 2 columns<\/p>\n",
              "<\/div>"
            ]
          },
          "metadata":{
            
          },
          "output_type":"display_data"
        }
      ],
      "metadata":{
        
      }
    },
    {
      "cell_type":"code",
      "source":[
        "data.describe()"
      ],
      "execution_count":5,
      "outputs":[
        {
          "data":{
            "text\/html":[
              "<div>\n",
              "<style scoped>\n",
              "    .dataframe tbody tr th:only-of-type {\n",
              "        vertical-align: middle;\n",
              "    }\n",
              "\n",
              "    .dataframe tbody tr th {\n",
              "        vertical-align: top;\n",
              "    }\n",
              "\n",
              "    .dataframe thead th {\n",
              "        text-align: right;\n",
              "    }\n",
              "<\/style>\n",
              "<table border=\"1\" class=\"dataframe\">\n",
              "  <thead>\n",
              "    <tr style=\"text-align: right;\">\n",
              "      <th><\/th>\n",
              "      <th>SAT<\/th>\n",
              "      <th>GPA<\/th>\n",
              "    <\/tr>\n",
              "  <\/thead>\n",
              "  <tbody>\n",
              "    <tr>\n",
              "      <th>count<\/th>\n",
              "      <td>84.000000<\/td>\n",
              "      <td>84.000000<\/td>\n",
              "    <\/tr>\n",
              "    <tr>\n",
              "      <th>mean<\/th>\n",
              "      <td>1845.273810<\/td>\n",
              "      <td>3.330238<\/td>\n",
              "    <\/tr>\n",
              "    <tr>\n",
              "      <th>std<\/th>\n",
              "      <td>104.530661<\/td>\n",
              "      <td>0.271617<\/td>\n",
              "    <\/tr>\n",
              "    <tr>\n",
              "      <th>min<\/th>\n",
              "      <td>1634.000000<\/td>\n",
              "      <td>2.400000<\/td>\n",
              "    <\/tr>\n",
              "    <tr>\n",
              "      <th>25%<\/th>\n",
              "      <td>1772.000000<\/td>\n",
              "      <td>3.190000<\/td>\n",
              "    <\/tr>\n",
              "    <tr>\n",
              "      <th>50%<\/th>\n",
              "      <td>1846.000000<\/td>\n",
              "      <td>3.380000<\/td>\n",
              "    <\/tr>\n",
              "    <tr>\n",
              "      <th>75%<\/th>\n",
              "      <td>1934.000000<\/td>\n",
              "      <td>3.502500<\/td>\n",
              "    <\/tr>\n",
              "    <tr>\n",
              "      <th>max<\/th>\n",
              "      <td>2050.000000<\/td>\n",
              "      <td>3.810000<\/td>\n",
              "    <\/tr>\n",
              "  <\/tbody>\n",
              "<\/table>\n",
              "<\/div>"
            ]
          },
          "metadata":{
            
          },
          "output_type":"display_data"
        }
      ],
      "metadata":{
        
      }
    },
    {
      "cell_type":"markdown",
      "source":[
        "## Defining Dependent and Independent Variable"
      ],
      "metadata":{
        
      }
    },
    {
      "cell_type":"code",
      "source":[
        "y=data['GPA']\n",
        "x=data['SAT']\n",
        "\n",
        "# calculating total observations\n",
        "number_of_observation=np.size(x) \n",
        "\n",
        "# calculating average of x and average of y\n",
        "xmean= np.mean(x)\n",
        "ymean= np.mean(y)\n",
        "\n",
        "\n",
        "ssxy= np.sum((x-xmean)*(y-ymean))\n",
        "ssxx= np.sum((x-xmean)**2)\n",
        "\n",
        "# calculating slope = m = b1\n",
        "slope = ssxy \/ ssxx \n",
        "\n",
        "# calculating intercept = c = b0\n",
        "intercept = ymean - slope*xmean\n",
        "\n",
        "# calculatig all predicted y basis on slope and intercept\n",
        "predictedY= intercept + slope * x\n",
        "\n",
        "# drawing scatter plot denoting all real data\n",
        "plt.scatter(x,y)\n",
        "\n",
        "# ploting best fit Regression line\n",
        "plt.plot(x,predictedY)\n",
        "plt.xlabel('SAT',fontsize=20)\n",
        "plt.ylabel('GPA',fontsize=20)\n",
        "plt.show()"
      ],
      "execution_count":6,
      "outputs":[
        {
          "data":{
            "image\/png":"[encoded data removed]"
          },
          "metadata":{
            "image\/png":{
              "width":0,
              "height":0
            }
          },
          "output_type":"display_data"
        }
      ],
      "metadata":{
        
      }
    },
    {
      "cell_type":"markdown",
      "source":[
        "## Lets check how good the above linear regression model is \n",
        "### SST = SSR + SSE  \n",
        "### Sum of Squares Total = Sum of Squares Regression + Sum of Squares Error\n",
        "## SST =TSS and SSR = ESS and SSE = RSS\n",
        "## R <sup>2 <\/sup>= SSR \/ SST ;   where  R<sup>2 <\/sup> measures the goodness of fit"
      ],
      "metadata":{
        
      }
    },
    {
      "cell_type":"code",
      "source":[
        "SSR = np.sum((predictedY - ymean)**2)\n",
        "SST = np.sum ((y-ymean)**2)\n",
        "\n",
        "RSquare = SSR \/ SST \n",
        "\n",
        "print(f'Value of R^2 ={RSquare} In percentage : {RSquare * 100}%')"
      ],
      "execution_count":8,
      "outputs":[
        {
          "name":"stdout",
          "text":[
            "Value of R^2 =0.4060039147967976 In percentage : 40.60039147967976%\n"
          ],
          "output_type":"stream"
        }
      ],
      "metadata":{
        
      }
    },
    {
      "cell_type":"code",
      "source":[
        
      ],
      "execution_count":7,
      "outputs":[
        
      ],
      "metadata":{
        
      }
    }
  ],
  "metadata":{
    
  },
  "nbformat":4,
  "nbformat_minor":0
}
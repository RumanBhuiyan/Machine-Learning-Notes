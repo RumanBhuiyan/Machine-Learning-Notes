{
  "cells":[
    {
      "cell_type":"markdown",
      "source":[
        "## Multiple Linear Regrerssion \n",
        "### In Simple Linear Regression there is only one independent variable and one dependent variable so machine predicts any value of y depend  on only one feature(one independent variable) but in Multiple Linear Regression Machine Predicts value of Y basis on two or more features (Two or more independent variables)"
      ],
      "metadata":{
        
      }
    },
    {
      "cell_type":"markdown",
      "source":[
        "## Declaring Libraries"
      ],
      "metadata":{
        
      }
    },
    {
      "cell_type":"code",
      "source":[
        "import pandas as pd\n",
        "from sklearn import linear_model "
      ],
      "execution_count":30,
      "outputs":[
        
      ],
      "metadata":{
        
      }
    },
    {
      "cell_type":"markdown",
      "source":[
        "## Reading Data and Keeping them as Dataframe"
      ],
      "metadata":{
        
      }
    },
    {
      "cell_type":"code",
      "source":[
        "data = pd.read_csv('cars.csv')"
      ],
      "execution_count":9,
      "outputs":[
        
      ],
      "metadata":{
        
      }
    },
    {
      "cell_type":"code",
      "source":[
        "data"
      ],
      "execution_count":10,
      "outputs":[
        {
          "data":{
            "text\/html":[
              "<div>\n",
              "<style scoped>\n",
              "    .dataframe tbody tr th:only-of-type {\n",
              "        vertical-align: middle;\n",
              "    }\n",
              "\n",
              "    .dataframe tbody tr th {\n",
              "        vertical-align: top;\n",
              "    }\n",
              "\n",
              "    .dataframe thead th {\n",
              "        text-align: right;\n",
              "    }\n",
              "<\/style>\n",
              "<table border=\"1\" class=\"dataframe\">\n",
              "  <thead>\n",
              "    <tr style=\"text-align: right;\">\n",
              "      <th><\/th>\n",
              "      <th>Car<\/th>\n",
              "      <th>Model<\/th>\n",
              "      <th>Volume<\/th>\n",
              "      <th>Weight<\/th>\n",
              "      <th>CO2<\/th>\n",
              "    <\/tr>\n",
              "  <\/thead>\n",
              "  <tbody>\n",
              "    <tr>\n",
              "      <th>0<\/th>\n",
              "      <td>Toyoty<\/td>\n",
              "      <td>Aygo<\/td>\n",
              "      <td>1000<\/td>\n",
              "      <td>790<\/td>\n",
              "      <td>99<\/td>\n",
              "    <\/tr>\n",
              "    <tr>\n",
              "      <th>1<\/th>\n",
              "      <td>Mitsubishi<\/td>\n",
              "      <td>Space Star<\/td>\n",
              "      <td>1200<\/td>\n",
              "      <td>1160<\/td>\n",
              "      <td>95<\/td>\n",
              "    <\/tr>\n",
              "    <tr>\n",
              "      <th>2<\/th>\n",
              "      <td>Skoda<\/td>\n",
              "      <td>Citigo<\/td>\n",
              "      <td>1000<\/td>\n",
              "      <td>929<\/td>\n",
              "      <td>95<\/td>\n",
              "    <\/tr>\n",
              "    <tr>\n",
              "      <th>3<\/th>\n",
              "      <td>Fiat<\/td>\n",
              "      <td>500<\/td>\n",
              "      <td>900<\/td>\n",
              "      <td>865<\/td>\n",
              "      <td>90<\/td>\n",
              "    <\/tr>\n",
              "    <tr>\n",
              "      <th>4<\/th>\n",
              "      <td>Mini<\/td>\n",
              "      <td>Cooper<\/td>\n",
              "      <td>1500<\/td>\n",
              "      <td>1140<\/td>\n",
              "      <td>105<\/td>\n",
              "    <\/tr>\n",
              "    <tr>\n",
              "      <th>5<\/th>\n",
              "      <td>VW<\/td>\n",
              "      <td>Up!<\/td>\n",
              "      <td>1000<\/td>\n",
              "      <td>929<\/td>\n",
              "      <td>105<\/td>\n",
              "    <\/tr>\n",
              "    <tr>\n",
              "      <th>6<\/th>\n",
              "      <td>Skoda<\/td>\n",
              "      <td>Fabia<\/td>\n",
              "      <td>1400<\/td>\n",
              "      <td>1109<\/td>\n",
              "      <td>90<\/td>\n",
              "    <\/tr>\n",
              "    <tr>\n",
              "      <th>7<\/th>\n",
              "      <td>Mercedes<\/td>\n",
              "      <td>A-Class<\/td>\n",
              "      <td>1500<\/td>\n",
              "      <td>1365<\/td>\n",
              "      <td>92<\/td>\n",
              "    <\/tr>\n",
              "    <tr>\n",
              "      <th>8<\/th>\n",
              "      <td>Ford<\/td>\n",
              "      <td>Fiesta<\/td>\n",
              "      <td>1500<\/td>\n",
              "      <td>1112<\/td>\n",
              "      <td>98<\/td>\n",
              "    <\/tr>\n",
              "    <tr>\n",
              "      <th>9<\/th>\n",
              "      <td>Audi<\/td>\n",
              "      <td>A1<\/td>\n",
              "      <td>1600<\/td>\n",
              "      <td>1150<\/td>\n",
              "      <td>99<\/td>\n",
              "    <\/tr>\n",
              "    <tr>\n",
              "      <th>10<\/th>\n",
              "      <td>Hyundai<\/td>\n",
              "      <td>I20<\/td>\n",
              "      <td>1100<\/td>\n",
              "      <td>980<\/td>\n",
              "      <td>99<\/td>\n",
              "    <\/tr>\n",
              "    <tr>\n",
              "      <th>11<\/th>\n",
              "      <td>Suzuki<\/td>\n",
              "      <td>Swift<\/td>\n",
              "      <td>1300<\/td>\n",
              "      <td>990<\/td>\n",
              "      <td>101<\/td>\n",
              "    <\/tr>\n",
              "    <tr>\n",
              "      <th>12<\/th>\n",
              "      <td>Ford<\/td>\n",
              "      <td>Fiesta<\/td>\n",
              "      <td>1000<\/td>\n",
              "      <td>1112<\/td>\n",
              "      <td>99<\/td>\n",
              "    <\/tr>\n",
              "    <tr>\n",
              "      <th>13<\/th>\n",
              "      <td>Honda<\/td>\n",
              "      <td>Civic<\/td>\n",
              "      <td>1600<\/td>\n",
              "      <td>1252<\/td>\n",
              "      <td>94<\/td>\n",
              "    <\/tr>\n",
              "    <tr>\n",
              "      <th>14<\/th>\n",
              "      <td>Hundai<\/td>\n",
              "      <td>I30<\/td>\n",
              "      <td>1600<\/td>\n",
              "      <td>1326<\/td>\n",
              "      <td>97<\/td>\n",
              "    <\/tr>\n",
              "    <tr>\n",
              "      <th>15<\/th>\n",
              "      <td>Opel<\/td>\n",
              "      <td>Astra<\/td>\n",
              "      <td>1600<\/td>\n",
              "      <td>1330<\/td>\n",
              "      <td>97<\/td>\n",
              "    <\/tr>\n",
              "    <tr>\n",
              "      <th>16<\/th>\n",
              "      <td>BMW<\/td>\n",
              "      <td>1<\/td>\n",
              "      <td>1600<\/td>\n",
              "      <td>1365<\/td>\n",
              "      <td>99<\/td>\n",
              "    <\/tr>\n",
              "    <tr>\n",
              "      <th>17<\/th>\n",
              "      <td>Mazda<\/td>\n",
              "      <td>3<\/td>\n",
              "      <td>2200<\/td>\n",
              "      <td>1280<\/td>\n",
              "      <td>104<\/td>\n",
              "    <\/tr>\n",
              "    <tr>\n",
              "      <th>18<\/th>\n",
              "      <td>Skoda<\/td>\n",
              "      <td>Rapid<\/td>\n",
              "      <td>1600<\/td>\n",
              "      <td>1119<\/td>\n",
              "      <td>104<\/td>\n",
              "    <\/tr>\n",
              "    <tr>\n",
              "      <th>19<\/th>\n",
              "      <td>Ford<\/td>\n",
              "      <td>Focus<\/td>\n",
              "      <td>2000<\/td>\n",
              "      <td>1328<\/td>\n",
              "      <td>105<\/td>\n",
              "    <\/tr>\n",
              "    <tr>\n",
              "      <th>20<\/th>\n",
              "      <td>Ford<\/td>\n",
              "      <td>Mondeo<\/td>\n",
              "      <td>1600<\/td>\n",
              "      <td>1584<\/td>\n",
              "      <td>94<\/td>\n",
              "    <\/tr>\n",
              "    <tr>\n",
              "      <th>21<\/th>\n",
              "      <td>Opel<\/td>\n",
              "      <td>Insignia<\/td>\n",
              "      <td>2000<\/td>\n",
              "      <td>1428<\/td>\n",
              "      <td>99<\/td>\n",
              "    <\/tr>\n",
              "    <tr>\n",
              "      <th>22<\/th>\n",
              "      <td>Mercedes<\/td>\n",
              "      <td>C-Class<\/td>\n",
              "      <td>2100<\/td>\n",
              "      <td>1365<\/td>\n",
              "      <td>99<\/td>\n",
              "    <\/tr>\n",
              "    <tr>\n",
              "      <th>23<\/th>\n",
              "      <td>Skoda<\/td>\n",
              "      <td>Octavia<\/td>\n",
              "      <td>1600<\/td>\n",
              "      <td>1415<\/td>\n",
              "      <td>99<\/td>\n",
              "    <\/tr>\n",
              "    <tr>\n",
              "      <th>24<\/th>\n",
              "      <td>Volvo<\/td>\n",
              "      <td>S60<\/td>\n",
              "      <td>2000<\/td>\n",
              "      <td>1415<\/td>\n",
              "      <td>99<\/td>\n",
              "    <\/tr>\n",
              "    <tr>\n",
              "      <th>25<\/th>\n",
              "      <td>Mercedes<\/td>\n",
              "      <td>CLA<\/td>\n",
              "      <td>1500<\/td>\n",
              "      <td>1465<\/td>\n",
              "      <td>102<\/td>\n",
              "    <\/tr>\n",
              "    <tr>\n",
              "      <th>26<\/th>\n",
              "      <td>Audi<\/td>\n",
              "      <td>A4<\/td>\n",
              "      <td>2000<\/td>\n",
              "      <td>1490<\/td>\n",
              "      <td>104<\/td>\n",
              "    <\/tr>\n",
              "    <tr>\n",
              "      <th>27<\/th>\n",
              "      <td>Audi<\/td>\n",
              "      <td>A6<\/td>\n",
              "      <td>2000<\/td>\n",
              "      <td>1725<\/td>\n",
              "      <td>114<\/td>\n",
              "    <\/tr>\n",
              "    <tr>\n",
              "      <th>28<\/th>\n",
              "      <td>Volvo<\/td>\n",
              "      <td>V70<\/td>\n",
              "      <td>1600<\/td>\n",
              "      <td>1523<\/td>\n",
              "      <td>109<\/td>\n",
              "    <\/tr>\n",
              "    <tr>\n",
              "      <th>29<\/th>\n",
              "      <td>BMW<\/td>\n",
              "      <td>5<\/td>\n",
              "      <td>2000<\/td>\n",
              "      <td>1705<\/td>\n",
              "      <td>114<\/td>\n",
              "    <\/tr>\n",
              "    <tr>\n",
              "      <th>30<\/th>\n",
              "      <td>Mercedes<\/td>\n",
              "      <td>E-Class<\/td>\n",
              "      <td>2100<\/td>\n",
              "      <td>1605<\/td>\n",
              "      <td>115<\/td>\n",
              "    <\/tr>\n",
              "    <tr>\n",
              "      <th>31<\/th>\n",
              "      <td>Volvo<\/td>\n",
              "      <td>XC70<\/td>\n",
              "      <td>2000<\/td>\n",
              "      <td>1746<\/td>\n",
              "      <td>117<\/td>\n",
              "    <\/tr>\n",
              "    <tr>\n",
              "      <th>32<\/th>\n",
              "      <td>Ford<\/td>\n",
              "      <td>B-Max<\/td>\n",
              "      <td>1600<\/td>\n",
              "      <td>1235<\/td>\n",
              "      <td>104<\/td>\n",
              "    <\/tr>\n",
              "    <tr>\n",
              "      <th>33<\/th>\n",
              "      <td>BMW<\/td>\n",
              "      <td>216<\/td>\n",
              "      <td>1600<\/td>\n",
              "      <td>1390<\/td>\n",
              "      <td>108<\/td>\n",
              "    <\/tr>\n",
              "    <tr>\n",
              "      <th>34<\/th>\n",
              "      <td>Opel<\/td>\n",
              "      <td>Zafira<\/td>\n",
              "      <td>1600<\/td>\n",
              "      <td>1405<\/td>\n",
              "      <td>109<\/td>\n",
              "    <\/tr>\n",
              "    <tr>\n",
              "      <th>35<\/th>\n",
              "      <td>Mercedes<\/td>\n",
              "      <td>SLK<\/td>\n",
              "      <td>2500<\/td>\n",
              "      <td>1395<\/td>\n",
              "      <td>120<\/td>\n",
              "    <\/tr>\n",
              "  <\/tbody>\n",
              "<\/table>\n",
              "<\/div>"
            ]
          },
          "metadata":{
            
          },
          "output_type":"display_data"
        }
      ],
      "metadata":{
        
      }
    },
    {
      "cell_type":"code",
      "source":[
        "X = data[['Volume','Weight']]\n",
        "Y = data ['CO2']"
      ],
      "execution_count":11,
      "outputs":[
        
      ],
      "metadata":{
        
      }
    },
    {
      "cell_type":"code",
      "source":[
        "regression_object = linear_model.LinearRegression()\n",
        "regression_object.fit(X,Y)"
      ],
      "execution_count":14,
      "outputs":[
        {
          "data":{
            "text\/plain":[
              "LinearRegression()"
            ]
          },
          "metadata":{
            
          },
          "output_type":"display_data"
        }
      ],
      "metadata":{
        
      }
    },
    {
      "cell_type":"code",
      "source":[
        "# predict what will be the emission of CO2 if volume of car is 2300 and Weight of car is 1300 kg\n",
        "regression_object.predict([[2300,1300]])"
      ],
      "execution_count":16,
      "outputs":[
        {
          "data":{
            "text\/plain":[
              "array([107.46304306])"
            ]
          },
          "metadata":{
            
          },
          "output_type":"display_data"
        }
      ],
      "metadata":{
        
      }
    },
    {
      "cell_type":"code",
      "source":[
        "# co-efficients where first value of list denotes emission co2 increasement when volume increases 1 unit and \n",
        "#  second value of list denotes emission co2 increasement when weight increases \n",
        "print(regression_object.coef_)\n",
        "\n",
        "co2_increase_by_per_volume_increases = regression_object.coef_[0]\n",
        "co2_increase_by_per_weight_increases = regression_object.coef_[1]"
      ],
      "execution_count":17,
      "outputs":[
        {
          "name":"stdout",
          "text":[
            "[0.00780526 0.00755095]\n"
          ],
          "output_type":"stream"
        }
      ],
      "metadata":{
        
      }
    }
  ],
  "metadata":{
    
  },
  "nbformat":4,
  "nbformat_minor":0
}
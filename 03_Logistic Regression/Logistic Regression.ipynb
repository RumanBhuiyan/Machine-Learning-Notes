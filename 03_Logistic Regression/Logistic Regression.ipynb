{
  "cells":[
    {
      "cell_type":"markdown",
      "source":[
        "## Logistic Regression which solves Classification Problems"
      ],
      "metadata":{
        
      }
    },
    {
      "cell_type":"markdown",
      "source":[
        "## Loading Data"
      ],
      "metadata":{
        
      }
    },
    {
      "cell_type":"code",
      "source":[
        "import pandas as pd\n",
        "data = pd.read_csv('User_Data.csv')"
      ],
      "execution_count":63,
      "outputs":[
        
      ],
      "metadata":{
        
      }
    },
    {
      "cell_type":"code",
      "source":[
        "data"
      ],
      "execution_count":64,
      "outputs":[
        {
          "data":{
            "text\/html":[
              "<div>\n",
              "<style scoped>\n",
              "    .dataframe tbody tr th:only-of-type {\n",
              "        vertical-align: middle;\n",
              "    }\n",
              "\n",
              "    .dataframe tbody tr th {\n",
              "        vertical-align: top;\n",
              "    }\n",
              "\n",
              "    .dataframe thead th {\n",
              "        text-align: right;\n",
              "    }\n",
              "<\/style>\n",
              "<table border=\"1\" class=\"dataframe\">\n",
              "  <thead>\n",
              "    <tr style=\"text-align: right;\">\n",
              "      <th><\/th>\n",
              "      <th>User ID<\/th>\n",
              "      <th>Gender<\/th>\n",
              "      <th>Age<\/th>\n",
              "      <th>EstimatedSalary<\/th>\n",
              "      <th>Purchased<\/th>\n",
              "    <\/tr>\n",
              "  <\/thead>\n",
              "  <tbody>\n",
              "    <tr>\n",
              "      <th>0<\/th>\n",
              "      <td>15624510<\/td>\n",
              "      <td>Male<\/td>\n",
              "      <td>19<\/td>\n",
              "      <td>19000<\/td>\n",
              "      <td>0<\/td>\n",
              "    <\/tr>\n",
              "    <tr>\n",
              "      <th>1<\/th>\n",
              "      <td>15810944<\/td>\n",
              "      <td>Male<\/td>\n",
              "      <td>35<\/td>\n",
              "      <td>20000<\/td>\n",
              "      <td>0<\/td>\n",
              "    <\/tr>\n",
              "    <tr>\n",
              "      <th>2<\/th>\n",
              "      <td>15668575<\/td>\n",
              "      <td>Female<\/td>\n",
              "      <td>26<\/td>\n",
              "      <td>43000<\/td>\n",
              "      <td>0<\/td>\n",
              "    <\/tr>\n",
              "    <tr>\n",
              "      <th>3<\/th>\n",
              "      <td>15603246<\/td>\n",
              "      <td>Female<\/td>\n",
              "      <td>27<\/td>\n",
              "      <td>57000<\/td>\n",
              "      <td>0<\/td>\n",
              "    <\/tr>\n",
              "    <tr>\n",
              "      <th>4<\/th>\n",
              "      <td>15804002<\/td>\n",
              "      <td>Male<\/td>\n",
              "      <td>19<\/td>\n",
              "      <td>76000<\/td>\n",
              "      <td>0<\/td>\n",
              "    <\/tr>\n",
              "    <tr>\n",
              "      <th>...<\/th>\n",
              "      <td>...<\/td>\n",
              "      <td>...<\/td>\n",
              "      <td>...<\/td>\n",
              "      <td>...<\/td>\n",
              "      <td>...<\/td>\n",
              "    <\/tr>\n",
              "    <tr>\n",
              "      <th>395<\/th>\n",
              "      <td>15691863<\/td>\n",
              "      <td>Female<\/td>\n",
              "      <td>46<\/td>\n",
              "      <td>41000<\/td>\n",
              "      <td>1<\/td>\n",
              "    <\/tr>\n",
              "    <tr>\n",
              "      <th>396<\/th>\n",
              "      <td>15706071<\/td>\n",
              "      <td>Male<\/td>\n",
              "      <td>51<\/td>\n",
              "      <td>23000<\/td>\n",
              "      <td>1<\/td>\n",
              "    <\/tr>\n",
              "    <tr>\n",
              "      <th>397<\/th>\n",
              "      <td>15654296<\/td>\n",
              "      <td>Female<\/td>\n",
              "      <td>50<\/td>\n",
              "      <td>20000<\/td>\n",
              "      <td>1<\/td>\n",
              "    <\/tr>\n",
              "    <tr>\n",
              "      <th>398<\/th>\n",
              "      <td>15755018<\/td>\n",
              "      <td>Male<\/td>\n",
              "      <td>36<\/td>\n",
              "      <td>33000<\/td>\n",
              "      <td>0<\/td>\n",
              "    <\/tr>\n",
              "    <tr>\n",
              "      <th>399<\/th>\n",
              "      <td>15594041<\/td>\n",
              "      <td>Female<\/td>\n",
              "      <td>49<\/td>\n",
              "      <td>36000<\/td>\n",
              "      <td>1<\/td>\n",
              "    <\/tr>\n",
              "  <\/tbody>\n",
              "<\/table>\n",
              "<p>400 rows × 5 columns<\/p>\n",
              "<\/div>"
            ]
          },
          "metadata":{
            
          },
          "output_type":"display_data"
        }
      ],
      "metadata":{
        
      }
    },
    {
      "cell_type":"code",
      "source":[
        "\n",
        "# store data of third and fourth column as value of independent variable\n",
        "x = data.iloc[:, [2, 3]].values\n",
        "  \n",
        "# store data of fifth column as value of depenedent variable\n",
        "y = data.iloc[:, 4].values"
      ],
      "execution_count":65,
      "outputs":[
        
      ],
      "metadata":{
        
      }
    },
    {
      "cell_type":"markdown",
      "source":[
        "## Preaparing Training and Testing data set"
      ],
      "metadata":{
        
      }
    },
    {
      "cell_type":"code",
      "source":[
        "from sklearn.model_selection import train_test_split"
      ],
      "execution_count":66,
      "outputs":[
        
      ],
      "metadata":{
        
      }
    },
    {
      "cell_type":"code",
      "source":[
        "# seperating  training ans testing data training data = 0.75 or 75% and testing data = 0.25 or 25%\n",
        "xtrain,xtest,ytrain,ytest= train_test_split(x,y,train_size=0.25,random_state=0)"
      ],
      "execution_count":67,
      "outputs":[
        
      ],
      "metadata":{
        
      }
    },
    {
      "cell_type":"code",
      "source":[
        "from sklearn.preprocessing import StandardScaler\n",
        "sc_x = StandardScaler()\n",
        "xtrain = sc_x.fit_transform(xtrain) \n",
        "xtest = sc_x.transform(xtest)"
      ],
      "execution_count":68,
      "outputs":[
        
      ],
      "metadata":{
        
      }
    },
    {
      "cell_type":"code",
      "source":[
        "from sklearn.linear_model import LogisticRegression \n",
        "classifier = LogisticRegression(random_state=0)\n",
        "classifier.fit(xtrain,ytrain)\n",
        "\n",
        "predictedY = classifier.predict(xtest)"
      ],
      "execution_count":69,
      "outputs":[
        
      ],
      "metadata":{
        
      }
    },
    {
      "cell_type":"code",
      "source":[
        "# importing Result into confusion metrics\n",
        "from sklearn.metrics import confusion_matrix\n",
        "\n",
        "output_matrix= confusion_matrix(ytest,predictedY)"
      ],
      "execution_count":70,
      "outputs":[
        
      ],
      "metadata":{
        
      }
    },
    {
      "cell_type":"code",
      "source":[
        "output_matrix"
      ],
      "execution_count":71,
      "outputs":[
        {
          "data":{
            "text\/plain":[
              "array([[175,  11],\n",
              "       [ 51,  63]])"
            ]
          },
          "metadata":{
            
          },
          "output_type":"display_data"
        }
      ],
      "metadata":{
        
      }
    },
    {
      "cell_type":"markdown",
      "source":[
        "## Total 300\n",
        "## TruePostive + TrueNegative = 175 + 11 = 186\n",
        "## FalsePositive + FalseNegative = 51 + 63 = 114"
      ],
      "metadata":{
        
      }
    },
    {
      "cell_type":"markdown",
      "source":[
        "## Measuring Accuracy"
      ],
      "metadata":{
        
      }
    },
    {
      "cell_type":"code",
      "source":[
        "from sklearn.metrics import accuracy_score \n",
        "accuracy = accuracy_score(ytest,predictedY)\n",
        "\n",
        "print(f'Accuracy : {accuracy} in percentage : {accuracy*100}%')"
      ],
      "execution_count":72,
      "outputs":[
        {
          "name":"stdout",
          "text":[
            "Accuracy : 0.7933333333333333 in percentage : 79.33333333333333%\n"
          ],
          "output_type":"stream"
        }
      ],
      "metadata":{
        
      }
    },
    {
      "cell_type":"code",
      "source":[
        
      ],
      "execution_count":72,
      "outputs":[
        
      ],
      "metadata":{
        
      }
    }
  ],
  "metadata":{
    
  },
  "nbformat":4,
  "nbformat_minor":0
}
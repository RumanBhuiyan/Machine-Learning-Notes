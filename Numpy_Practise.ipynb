{
 "cells": [
  {
   "cell_type": "code",
   "execution_count": 521,
   "id": "geographic-alaska",
   "metadata": {},
   "outputs": [],
   "source": [
    "import numpy as np"
   ]
  },
  {
   "cell_type": "markdown",
   "id": "appreciated-restriction",
   "metadata": {},
   "source": [
    "#### Creating One Dimensional Array"
   ]
  },
  {
   "cell_type": "code",
   "execution_count": 522,
   "id": "balanced-wrist",
   "metadata": {},
   "outputs": [
    {
     "data": {
      "text/plain": [
       "array([1, 2, 3, 4, 5, 6])"
      ]
     },
     "execution_count": 522,
     "metadata": {},
     "output_type": "execute_result"
    }
   ],
   "source": [
    "numbers = [1,2,3,4,5,6]\n",
    "first_array = np.array(numbers)\n",
    "first_array"
   ]
  },
  {
   "cell_type": "markdown",
   "id": "discrete-measure",
   "metadata": {},
   "source": [
    "#### Creating Two Dimensional Array"
   ]
  },
  {
   "cell_type": "code",
   "execution_count": 523,
   "id": "printable-multimedia",
   "metadata": {},
   "outputs": [
    {
     "data": {
      "text/plain": [
       "array([[1, 2, 3],\n",
       "       [4, 5, 6],\n",
       "       [7, 8, 9]])"
      ]
     },
     "execution_count": 523,
     "metadata": {},
     "output_type": "execute_result"
    }
   ],
   "source": [
    "other_numbers = [[1,2,3],[4,5,6],[7,8,9]]\n",
    "second_array = np.array(other_numbers)\n",
    "second_array"
   ]
  },
  {
   "cell_type": "code",
   "execution_count": 524,
   "id": "colored-bridges",
   "metadata": {},
   "outputs": [
    {
     "data": {
      "text/plain": [
       "array([ 0,  2,  4,  6,  8, 10])"
      ]
     },
     "execution_count": 524,
     "metadata": {},
     "output_type": "execute_result"
    }
   ],
   "source": [
    "# np.arange(start,stop,increment/decrement)\n",
    "np.arange(0,11,2)"
   ]
  },
  {
   "cell_type": "code",
   "execution_count": 525,
   "id": "adjacent-initial",
   "metadata": {},
   "outputs": [
    {
     "data": {
      "text/plain": [
       "array([0., 0., 0., 0., 0., 0.])"
      ]
     },
     "execution_count": 525,
     "metadata": {},
     "output_type": "execute_result"
    }
   ],
   "source": [
    "# Creating an Array of 6 0's\n",
    "np.zeros(6)"
   ]
  },
  {
   "cell_type": "code",
   "execution_count": 526,
   "id": "metallic-composer",
   "metadata": {},
   "outputs": [
    {
     "data": {
      "text/plain": [
       "array([[0., 0., 0.],\n",
       "       [0., 0., 0.]])"
      ]
     },
     "execution_count": 526,
     "metadata": {},
     "output_type": "execute_result"
    }
   ],
   "source": [
    "# create 2 rows and 3 columns of each element value 0\n",
    "np.zeros((2,3))"
   ]
  },
  {
   "cell_type": "code",
   "execution_count": 527,
   "id": "tired-delight",
   "metadata": {},
   "outputs": [
    {
     "data": {
      "text/plain": [
       "array([1., 1., 1., 1., 1.])"
      ]
     },
     "execution_count": 527,
     "metadata": {},
     "output_type": "execute_result"
    }
   ],
   "source": [
    "# one dimensional array of 5 elements where each value is 1\n",
    "np.ones(5)"
   ]
  },
  {
   "cell_type": "code",
   "execution_count": 528,
   "id": "nervous-fever",
   "metadata": {},
   "outputs": [
    {
     "data": {
      "text/plain": [
       "array([[1., 1., 1., 1.],\n",
       "       [1., 1., 1., 1.],\n",
       "       [1., 1., 1., 1.]])"
      ]
     },
     "execution_count": 528,
     "metadata": {},
     "output_type": "execute_result"
    }
   ],
   "source": [
    "# 3 rows 4 columns array of 12 elements where each value is 1\n",
    "np.ones((3,4))"
   ]
  },
  {
   "cell_type": "code",
   "execution_count": 529,
   "id": "fancy-plasma",
   "metadata": {},
   "outputs": [
    {
     "data": {
      "text/plain": [
       "array([ 2.        ,  2.42105263,  2.84210526,  3.26315789,  3.68421053,\n",
       "        4.10526316,  4.52631579,  4.94736842,  5.36842105,  5.78947368,\n",
       "        6.21052632,  6.63157895,  7.05263158,  7.47368421,  7.89473684,\n",
       "        8.31578947,  8.73684211,  9.15789474,  9.57894737, 10.        ])"
      ]
     },
     "execution_count": 529,
     "metadata": {},
     "output_type": "execute_result"
    }
   ],
   "source": [
    "# linspace is used for taking n values between two range\n",
    "np.linspace(2,10,20)"
   ]
  },
  {
   "cell_type": "code",
   "execution_count": 530,
   "id": "unauthorized-pledge",
   "metadata": {},
   "outputs": [
    {
     "data": {
      "text/plain": [
       "array([[1., 0., 0., 0.],\n",
       "       [0., 1., 0., 0.],\n",
       "       [0., 0., 1., 0.],\n",
       "       [0., 0., 0., 1.]])"
      ]
     },
     "execution_count": 530,
     "metadata": {},
     "output_type": "execute_result"
    }
   ],
   "source": [
    "# Creating Identity Matrix of 4 columns\n",
    "np.eye(4) # np.identity(4)"
   ]
  },
  {
   "cell_type": "code",
   "execution_count": 531,
   "id": "still-spectacular",
   "metadata": {},
   "outputs": [
    {
     "data": {
      "text/plain": [
       "array([0.44987886, 0.54081282, 0.38487525, 0.1459143 , 0.72163385])"
      ]
     },
     "execution_count": 531,
     "metadata": {},
     "output_type": "execute_result"
    }
   ],
   "source": [
    "# takes 5 random numbers between 0 and 1\n",
    "np.random.rand(5) # np.random.randn(5)"
   ]
  },
  {
   "cell_type": "code",
   "execution_count": 532,
   "id": "interpreted-compilation",
   "metadata": {},
   "outputs": [
    {
     "data": {
      "text/plain": [
       "array([ 4, 13, 11, 11, 12])"
      ]
     },
     "execution_count": 532,
     "metadata": {},
     "output_type": "execute_result"
    }
   ],
   "source": [
    "#  takes 5 random integers between 2 and 20\n",
    "np.random.randint(2,20,5)"
   ]
  },
  {
   "cell_type": "code",
   "execution_count": 533,
   "id": "unlimited-daily",
   "metadata": {},
   "outputs": [
    {
     "data": {
      "text/plain": [
       "array([[1, 2, 3],\n",
       "       [4, 5, 6],\n",
       "       [7, 8, 9]])"
      ]
     },
     "execution_count": 533,
     "metadata": {},
     "output_type": "execute_result"
    }
   ],
   "source": [
    "# create two dimensional array from one-dimensional array\n",
    "some_numbers = [1,2,3,4,5,6,7,8,9]\n",
    "np.array(some_numbers).reshape(3,3)"
   ]
  },
  {
   "cell_type": "code",
   "execution_count": 534,
   "id": "bizarre-devil",
   "metadata": {},
   "outputs": [
    {
     "data": {
      "text/plain": [
       "9"
      ]
     },
     "execution_count": 534,
     "metadata": {},
     "output_type": "execute_result"
    }
   ],
   "source": [
    "another = np.array(some_numbers)\n",
    "# returns max number of the array\n",
    "another.max()"
   ]
  },
  {
   "cell_type": "code",
   "execution_count": 535,
   "id": "minor-republican",
   "metadata": {},
   "outputs": [
    {
     "data": {
      "text/plain": [
       "8"
      ]
     },
     "execution_count": 535,
     "metadata": {},
     "output_type": "execute_result"
    }
   ],
   "source": [
    "# returns position/index of max numbre of the array\n",
    "another.argmax()"
   ]
  },
  {
   "cell_type": "code",
   "execution_count": 536,
   "id": "confident-envelope",
   "metadata": {},
   "outputs": [
    {
     "data": {
      "text/plain": [
       "1"
      ]
     },
     "execution_count": 536,
     "metadata": {},
     "output_type": "execute_result"
    }
   ],
   "source": [
    "# Returns minimum of an array\n",
    "another.min()"
   ]
  },
  {
   "cell_type": "code",
   "execution_count": 537,
   "id": "dutch-clearing",
   "metadata": {},
   "outputs": [
    {
     "data": {
      "text/plain": [
       "0"
      ]
     },
     "execution_count": 537,
     "metadata": {},
     "output_type": "execute_result"
    }
   ],
   "source": [
    "# Returns position/index of minimum  number \n",
    "another.argmin()"
   ]
  },
  {
   "cell_type": "code",
   "execution_count": 538,
   "id": "psychological-honey",
   "metadata": {},
   "outputs": [
    {
     "data": {
      "text/plain": [
       "dtype('int32')"
      ]
     },
     "execution_count": 538,
     "metadata": {},
     "output_type": "execute_result"
    }
   ],
   "source": [
    "# data type of array\n",
    "another.dtype"
   ]
  },
  {
   "cell_type": "markdown",
   "id": "interesting-proportion",
   "metadata": {},
   "source": [
    "#### N.B : all numpy methods can be applied after converting any list to numpy array"
   ]
  },
  {
   "cell_type": "code",
   "execution_count": 539,
   "id": "amazing-wallpaper",
   "metadata": {},
   "outputs": [
    {
     "data": {
      "text/plain": [
       "array([1, 2, 3, 4, 5, 6, 7, 8, 9])"
      ]
     },
     "execution_count": 539,
     "metadata": {},
     "output_type": "execute_result"
    }
   ],
   "source": [
    "# array slicing array[start_index:stop_index]\n",
    "# arr[1:] means grab everything from index 1\n",
    "# arr[:5] means grab everything from index 0 to 5\n",
    "# arr[2:5] means grab everything from index 2 to 5\n",
    "# another[::-1] print everything from reverse\n",
    "another[:]"
   ]
  },
  {
   "cell_type": "code",
   "execution_count": 540,
   "id": "sharp-signature",
   "metadata": {},
   "outputs": [
    {
     "data": {
      "text/plain": [
       "array([1, 2, 3, 4, 5, 6, 7, 8, 9])"
      ]
     },
     "execution_count": 540,
     "metadata": {},
     "output_type": "execute_result"
    }
   ],
   "source": [
    "# As array assignment pass a reference to its value so any change\n",
    "# to new variable will affect the original array. To get a copy of \n",
    "# original array use array.copy() \n",
    "third = another.copy()\n",
    "third"
   ]
  },
  {
   "cell_type": "code",
   "execution_count": 541,
   "id": "fuzzy-nurse",
   "metadata": {},
   "outputs": [
    {
     "data": {
      "text/plain": [
       "array([200, 200,   3,   4,   5,   6,   7,   8,   9])"
      ]
     },
     "execution_count": 541,
     "metadata": {},
     "output_type": "execute_result"
    }
   ],
   "source": [
    "another[0:2] = 200\n",
    "another "
   ]
  },
  {
   "cell_type": "code",
   "execution_count": 542,
   "id": "contemporary-coffee",
   "metadata": {},
   "outputs": [
    {
     "data": {
      "text/plain": [
       "array([1, 2, 3, 4, 5, 6, 7, 8, 9])"
      ]
     },
     "execution_count": 542,
     "metadata": {},
     "output_type": "execute_result"
    }
   ],
   "source": [
    "third"
   ]
  },
  {
   "cell_type": "code",
   "execution_count": 543,
   "id": "advised-canyon",
   "metadata": {},
   "outputs": [
    {
     "data": {
      "text/plain": [
       "array([[ 5, 10, 15],\n",
       "       [20, 25, 30],\n",
       "       [35, 40, 45]])"
      ]
     },
     "execution_count": 543,
     "metadata": {},
     "output_type": "execute_result"
    }
   ],
   "source": [
    "array_2d = np.array([[5,10,15],[20,25,30],[35,40,45]])\n",
    "array_2d"
   ]
  },
  {
   "cell_type": "code",
   "execution_count": 544,
   "id": "charming-yacht",
   "metadata": {},
   "outputs": [
    {
     "data": {
      "text/plain": [
       "array([[10, 15],\n",
       "       [25, 30]])"
      ]
     },
     "execution_count": 544,
     "metadata": {},
     "output_type": "execute_result"
    }
   ],
   "source": [
    "#  array_2d[row_slicing_syntax,column_slicing_syntax]\n",
    "# grab row from 0 to 1 and for every row grab colum 1 to end\n",
    "array_2d[:2,1:] "
   ]
  },
  {
   "cell_type": "markdown",
   "id": "controversial-laptop",
   "metadata": {},
   "source": [
    "### Boolean Array from Numeric Data array"
   ]
  },
  {
   "cell_type": "code",
   "execution_count": 545,
   "id": "ongoing-respondent",
   "metadata": {},
   "outputs": [
    {
     "data": {
      "text/plain": [
       "array([70, 71, 72, 73, 74, 75, 76, 77, 78, 79, 80, 81, 82, 83, 84, 85, 86,\n",
       "       87, 88, 89, 90, 91, 92, 93, 94, 95, 96, 97, 98, 99])"
      ]
     },
     "execution_count": 545,
     "metadata": {},
     "output_type": "execute_result"
    }
   ],
   "source": [
    "marks = np.arange(70,100)\n",
    "marks"
   ]
  },
  {
   "cell_type": "code",
   "execution_count": 546,
   "id": "serial-theorem",
   "metadata": {},
   "outputs": [
    {
     "data": {
      "text/plain": [
       "array([False, False, False, False, False, False, False, False, False,\n",
       "       False,  True,  True,  True,  True,  True,  True,  True,  True,\n",
       "        True,  True,  True,  True,  True,  True,  True,  True,  True,\n",
       "        True,  True,  True])"
      ]
     },
     "execution_count": 546,
     "metadata": {},
     "output_type": "execute_result"
    }
   ],
   "source": [
    "# keep track of each item by boolean flag whether they pass the\n",
    "# condition or not\n",
    "bool_arr = marks >= 80\n",
    "bool_arr"
   ]
  },
  {
   "cell_type": "code",
   "execution_count": 547,
   "id": "smaller-glossary",
   "metadata": {},
   "outputs": [
    {
     "data": {
      "text/plain": [
       "array([80, 81, 82, 83, 84, 85, 86, 87, 88, 89, 90, 91, 92, 93, 94, 95, 96,\n",
       "       97, 98, 99])"
      ]
     },
     "execution_count": 547,
     "metadata": {},
     "output_type": "execute_result"
    }
   ],
   "source": [
    "# print values of items which became True\n",
    "marks[bool_arr]"
   ]
  },
  {
   "cell_type": "code",
   "execution_count": 548,
   "id": "contemporary-japanese",
   "metadata": {},
   "outputs": [
    {
     "data": {
      "text/plain": [
       "array([80, 81, 82, 83, 84, 85, 86, 87, 88, 89, 90, 91, 92, 93, 94, 95, 96,\n",
       "       97, 98, 99])"
      ]
     },
     "execution_count": 548,
     "metadata": {},
     "output_type": "execute_result"
    }
   ],
   "source": [
    "# another way of doing it\n",
    "marks[marks >=80]"
   ]
  },
  {
   "cell_type": "code",
   "execution_count": 549,
   "id": "hydraulic-humanitarian",
   "metadata": {},
   "outputs": [
    {
     "data": {
      "text/plain": [
       "array([[ 0,  1,  2,  3,  4,  5,  6,  7,  8,  9],\n",
       "       [10, 11, 12, 13, 14, 15, 16, 17, 18, 19],\n",
       "       [20, 21, 22, 23, 24, 25, 26, 27, 28, 29],\n",
       "       [30, 31, 32, 33, 34, 35, 36, 37, 38, 39],\n",
       "       [40, 41, 42, 43, 44, 45, 46, 47, 48, 49]])"
      ]
     },
     "execution_count": 549,
     "metadata": {},
     "output_type": "execute_result"
    }
   ],
   "source": [
    "another_2d = np.arange(50).reshape(5,10)\n",
    "another_2d"
   ]
  },
  {
   "cell_type": "code",
   "execution_count": 550,
   "id": "synthetic-profit",
   "metadata": {},
   "outputs": [
    {
     "data": {
      "text/plain": [
       "array([23, 24, 25])"
      ]
     },
     "execution_count": 550,
     "metadata": {},
     "output_type": "execute_result"
    }
   ],
   "source": [
    "# lets grab third rows 3 to 6 column values\n",
    "another_2d[2][3:6]"
   ]
  },
  {
   "cell_type": "code",
   "execution_count": 551,
   "id": "angry-banks",
   "metadata": {},
   "outputs": [
    {
     "data": {
      "text/plain": [
       "11"
      ]
     },
     "execution_count": 551,
     "metadata": {},
     "output_type": "execute_result"
    }
   ],
   "source": [
    "# array[row, column] is short-hand of array[row][column]\n",
    "another_2d[1,1] # another_2d[1][1]"
   ]
  },
  {
   "cell_type": "markdown",
   "id": "automated-accident",
   "metadata": {},
   "source": [
    "### Array operations"
   ]
  },
  {
   "cell_type": "code",
   "execution_count": 552,
   "id": "musical-harrison",
   "metadata": {},
   "outputs": [
    {
     "data": {
      "text/plain": [
       "array([ 1,  2,  3,  4,  5,  6,  7,  8,  9, 10])"
      ]
     },
     "execution_count": 552,
     "metadata": {},
     "output_type": "execute_result"
    }
   ],
   "source": [
    "simple_arr = np.arange(1,11)\n",
    "simple_arr"
   ]
  },
  {
   "cell_type": "code",
   "execution_count": 553,
   "id": "greatest-frederick",
   "metadata": {},
   "outputs": [
    {
     "data": {
      "text/plain": [
       "array([ 2,  4,  6,  8, 10, 12, 14, 16, 18, 20])"
      ]
     },
     "execution_count": 553,
     "metadata": {},
     "output_type": "execute_result"
    }
   ],
   "source": [
    "# simple_arr + simple_arr \n",
    "# simple_arr - simple_arr\n",
    "# simple_arr * simple_arr\n",
    "# simple_arr / simple_arr\n",
    "simple_arr + simple_arr"
   ]
  },
  {
   "cell_type": "code",
   "execution_count": 554,
   "id": "lonely-allen",
   "metadata": {},
   "outputs": [
    {
     "data": {
      "text/plain": [
       "array([101, 102, 103, 104, 105, 106, 107, 108, 109, 110])"
      ]
     },
     "execution_count": 554,
     "metadata": {},
     "output_type": "execute_result"
    }
   ],
   "source": [
    "# simple_arr + 100\n",
    "# simple_arr - 100\n",
    "# simple_arr * 100\n",
    "# simple_arr / 100\n",
    "simple_arr + 100"
   ]
  },
  {
   "cell_type": "markdown",
   "id": "human-title",
   "metadata": {},
   "source": [
    "### Universal Methods"
   ]
  },
  {
   "cell_type": "code",
   "execution_count": 555,
   "id": "adverse-native",
   "metadata": {},
   "outputs": [
    {
     "data": {
      "text/plain": [
       "array([1.        , 1.41421356, 1.73205081, 2.        , 2.23606798,\n",
       "       2.44948974, 2.64575131, 2.82842712, 3.        , 3.16227766])"
      ]
     },
     "execution_count": 555,
     "metadata": {},
     "output_type": "execute_result"
    }
   ],
   "source": [
    "# square root of each element\n",
    "np.sqrt(simple_arr)"
   ]
  },
  {
   "cell_type": "code",
   "execution_count": 556,
   "id": "separate-russia",
   "metadata": {},
   "outputs": [
    {
     "data": {
      "text/plain": [
       "5.5"
      ]
     },
     "execution_count": 556,
     "metadata": {},
     "output_type": "execute_result"
    }
   ],
   "source": [
    "# arithmatic mean of array\n",
    "np.mean(simple_arr)"
   ]
  },
  {
   "cell_type": "code",
   "execution_count": 557,
   "id": "silent-prison",
   "metadata": {},
   "outputs": [
    {
     "data": {
      "text/plain": [
       "55"
      ]
     },
     "execution_count": 557,
     "metadata": {},
     "output_type": "execute_result"
    }
   ],
   "source": [
    "# summation of all elements \n",
    "np.sum(simple_arr)"
   ]
  },
  {
   "cell_type": "code",
   "execution_count": 558,
   "id": "automatic-pennsylvania",
   "metadata": {},
   "outputs": [
    {
     "data": {
      "text/plain": [
       "10"
      ]
     },
     "execution_count": 558,
     "metadata": {},
     "output_type": "execute_result"
    }
   ],
   "source": [
    "np.max(simple_arr)"
   ]
  },
  {
   "cell_type": "code",
   "execution_count": 559,
   "id": "ordered-folks",
   "metadata": {},
   "outputs": [
    {
     "data": {
      "text/plain": [
       "1"
      ]
     },
     "execution_count": 559,
     "metadata": {},
     "output_type": "execute_result"
    }
   ],
   "source": [
    "np.min(simple_arr)"
   ]
  },
  {
   "cell_type": "code",
   "execution_count": 560,
   "id": "simple-newspaper",
   "metadata": {},
   "outputs": [
    {
     "data": {
      "text/plain": [
       "array([2.71828183e+00, 7.38905610e+00, 2.00855369e+01, 5.45981500e+01,\n",
       "       1.48413159e+02, 4.03428793e+02, 1.09663316e+03, 2.98095799e+03,\n",
       "       8.10308393e+03, 2.20264658e+04])"
      ]
     },
     "execution_count": 560,
     "metadata": {},
     "output_type": "execute_result"
    }
   ],
   "source": [
    "# exponential of all elements\n",
    "np.exp(simple_arr) "
   ]
  },
  {
   "cell_type": "code",
   "execution_count": 561,
   "id": "czech-thriller",
   "metadata": {},
   "outputs": [
    {
     "data": {
      "text/plain": [
       "array([0.        , 0.69314718, 1.09861229, 1.38629436, 1.60943791,\n",
       "       1.79175947, 1.94591015, 2.07944154, 2.19722458, 2.30258509])"
      ]
     },
     "execution_count": 561,
     "metadata": {},
     "output_type": "execute_result"
    }
   ],
   "source": [
    "np.log(simple_arr)"
   ]
  },
  {
   "cell_type": "code",
   "execution_count": 562,
   "id": "collected-treaty",
   "metadata": {},
   "outputs": [
    {
     "data": {
      "text/plain": [
       "array([ 0.84147098,  0.90929743,  0.14112001, -0.7568025 , -0.95892427,\n",
       "       -0.2794155 ,  0.6569866 ,  0.98935825,  0.41211849, -0.54402111])"
      ]
     },
     "execution_count": 562,
     "metadata": {},
     "output_type": "execute_result"
    }
   ],
   "source": [
    "np.sin(simple_arr)"
   ]
  },
  {
   "cell_type": "code",
   "execution_count": 563,
   "id": "local-contrary",
   "metadata": {},
   "outputs": [
    {
     "data": {
      "text/plain": [
       "[5, 5, 5, 5, 5, 5, 5, 5, 5, 5]"
      ]
     },
     "execution_count": 563,
     "metadata": {},
     "output_type": "execute_result"
    }
   ],
   "source": [
    "# create an array of 10 5's\n",
    "# process : 01\n",
    "num = [5]*10\n",
    "num"
   ]
  },
  {
   "cell_type": "code",
   "execution_count": 564,
   "id": "interesting-values",
   "metadata": {},
   "outputs": [
    {
     "data": {
      "text/plain": [
       "[5, 5, 5, 5, 5, 5, 5, 5, 5, 5]"
      ]
     },
     "execution_count": 564,
     "metadata": {},
     "output_type": "execute_result"
    }
   ],
   "source": [
    "# process : 02 list comprehension method\n",
    "another_num = [5 for i in range(10)]\n",
    "another_num"
   ]
  },
  {
   "cell_type": "code",
   "execution_count": 565,
   "id": "placed-oxford",
   "metadata": {},
   "outputs": [
    {
     "data": {
      "text/plain": [
       "array([5, 5, 5, 5, 5, 5, 5, 5, 5, 5])"
      ]
     },
     "execution_count": 565,
     "metadata": {},
     "output_type": "execute_result"
    }
   ],
   "source": [
    "# process : 03\n",
    "np.full((10),5)\n",
    "# np.full ((2,2),5) will create 2x2 matrix of each element value 5"
   ]
  },
  {
   "cell_type": "markdown",
   "id": "worthy-radiation",
   "metadata": {},
   "source": [
    "### Some numpy Array Methods"
   ]
  },
  {
   "cell_type": "code",
   "execution_count": 566,
   "id": "given-amsterdam",
   "metadata": {},
   "outputs": [
    {
     "name": "stdout",
     "output_type": "stream",
     "text": [
      "[ 4  6  8 10]\n"
     ]
    }
   ],
   "source": [
    "demo = np.array([4,6,8,10])\n",
    "print(demo)"
   ]
  },
  {
   "cell_type": "code",
   "execution_count": 567,
   "id": "ordinary-recorder",
   "metadata": {},
   "outputs": [
    {
     "data": {
      "text/plain": [
       "1"
      ]
     },
     "execution_count": 567,
     "metadata": {},
     "output_type": "execute_result"
    }
   ],
   "source": [
    "# get dimension\n",
    "demo.ndim"
   ]
  },
  {
   "cell_type": "code",
   "execution_count": 568,
   "id": "polyphonic-noise",
   "metadata": {},
   "outputs": [
    {
     "data": {
      "text/plain": [
       "4"
      ]
     },
     "execution_count": 568,
     "metadata": {},
     "output_type": "execute_result"
    }
   ],
   "source": [
    "# get size of the array\n",
    "demo.size"
   ]
  },
  {
   "cell_type": "code",
   "execution_count": 569,
   "id": "level-house",
   "metadata": {},
   "outputs": [
    {
     "data": {
      "text/plain": [
       "16"
      ]
     },
     "execution_count": 569,
     "metadata": {},
     "output_type": "execute_result"
    }
   ],
   "source": [
    "#get how many bytes\n",
    "demo.nbytes"
   ]
  },
  {
   "cell_type": "code",
   "execution_count": 570,
   "id": "global-dodge",
   "metadata": {},
   "outputs": [
    {
     "data": {
      "text/plain": [
       "(4,)"
      ]
     },
     "execution_count": 570,
     "metadata": {},
     "output_type": "execute_result"
    }
   ],
   "source": [
    "# get Shape \n",
    "demo.shape"
   ]
  },
  {
   "cell_type": "code",
   "execution_count": 571,
   "id": "cooked-database",
   "metadata": {},
   "outputs": [
    {
     "data": {
      "text/plain": [
       "4"
      ]
     },
     "execution_count": 571,
     "metadata": {},
     "output_type": "execute_result"
    }
   ],
   "source": [
    "# get item size\n",
    "demo.itemsize"
   ]
  },
  {
   "cell_type": "code",
   "execution_count": 572,
   "id": "sacred-bachelor",
   "metadata": {},
   "outputs": [
    {
     "data": {
      "text/plain": [
       "16"
      ]
     },
     "execution_count": 572,
     "metadata": {},
     "output_type": "execute_result"
    }
   ],
   "source": [
    "# demo.nbytes = demo.itemsize * demo.size\n",
    "demo.itemsize * demo.size"
   ]
  },
  {
   "cell_type": "code",
   "execution_count": 573,
   "id": "challenging-massage",
   "metadata": {},
   "outputs": [
    {
     "data": {
      "text/plain": [
       "dtype('int32')"
      ]
     },
     "execution_count": 573,
     "metadata": {},
     "output_type": "execute_result"
    }
   ],
   "source": [
    "# Get data type\n",
    "demo.dtype"
   ]
  },
  {
   "cell_type": "markdown",
   "id": "phantom-static",
   "metadata": {},
   "source": [
    "### Matrix Multiplication"
   ]
  },
  {
   "cell_type": "code",
   "execution_count": 574,
   "id": "trained-bunny",
   "metadata": {},
   "outputs": [
    {
     "name": "stdout",
     "output_type": "stream",
     "text": [
      "[[1 1]\n",
      " [1 1]]\n",
      "[[2 2]\n",
      " [2 2]]\n"
     ]
    },
    {
     "data": {
      "text/plain": [
       "array([[4, 4],\n",
       "       [4, 4]])"
      ]
     },
     "execution_count": 574,
     "metadata": {},
     "output_type": "execute_result"
    }
   ],
   "source": [
    "# Matrix Multiplication\n",
    "mat0 = np.full((2,2),1)\n",
    "print(mat0)\n",
    "mat1 = np.full((2,2),2)\n",
    "print(mat1)\n",
    "\n",
    "np.matmul(mat0,mat1)"
   ]
  },
  {
   "cell_type": "markdown",
   "id": "reverse-northern",
   "metadata": {},
   "source": [
    "### Determinant of a Matrix"
   ]
  },
  {
   "cell_type": "code",
   "execution_count": 575,
   "id": "universal-morocco",
   "metadata": {},
   "outputs": [
    {
     "name": "stdout",
     "output_type": "stream",
     "text": [
      "[[1. 0. 0.]\n",
      " [0. 1. 0.]\n",
      " [0. 0. 1.]]\n",
      "Determinant : 1.0\n"
     ]
    }
   ],
   "source": [
    "my_matrix = np.identity(3)\n",
    "print(my_matrix)\n",
    "determinant = np.linalg.det(my_matrix)\n",
    "print(f'Determinant : {determinant}')"
   ]
  },
  {
   "cell_type": "markdown",
   "id": "signal-president",
   "metadata": {},
   "source": [
    "### Reading data from txt file "
   ]
  },
  {
   "cell_type": "code",
   "execution_count": 576,
   "id": "medieval-constant",
   "metadata": {},
   "outputs": [],
   "source": [
    "# delimiter says for getting which character numbers will be seperated\n",
    "# filedata = np.genfromtxt('filename.txt',delimiter = ',')"
   ]
  }
 ],
 "metadata": {
  "kernelspec": {
   "display_name": "Python 3",
   "language": "python",
   "name": "python3"
  },
  "language_info": {
   "codemirror_mode": {
    "name": "ipython",
    "version": 3
   },
   "file_extension": ".py",
   "mimetype": "text/x-python",
   "name": "python",
   "nbconvert_exporter": "python",
   "pygments_lexer": "ipython3",
   "version": "3.7.6"
  }
 },
 "nbformat": 4,
 "nbformat_minor": 5
}
